{
  "cells": [
    {
      "cell_type": "code",
      "source": [
        "%matplotlib inline"
      ],
      "outputs": [
        {
          "output_type": "stream",
          "name": "stderr",
          "text": [
            "Matplotlib is building the font cache; this may take a moment.\n"
          ]
        }
      ],
      "execution_count": 1,
      "metadata": {}
    },
    {
      "cell_type": "markdown",
      "source": [
        "This unit runs through the API for common tasks in machine learning. Refer to the links in each section to dive deeper.\n",
        "\n",
        "## Working with data\n",
        "PyTorch has two [primitives to work with data](https://pytorch.org/docs/stable/data.html): ``torch.utils.data.DataLoader`` and ``torch.utils.data.Dataset``. ``Dataset`` stores the samples and their corresponding labels, and ``DataLoader`` wraps an iterable around the ``Dataset``.\n",
        "\n"
      ],
      "metadata": {}
    },
    {
      "cell_type": "code",
      "source": [
        "import torch\n",
        "from torch import nn\n",
        "from torch.utils.data import DataLoader\n",
        "from torchvision import datasets\n",
        "from torchvision.transforms import ToTensor, Lambda, Compose\n",
        "import matplotlib.pyplot as plt"
      ],
      "outputs": [],
      "execution_count": 2,
      "metadata": {}
    },
    {
      "cell_type": "markdown",
      "source": [
        "PyTorch offers domain-specific libraries such as [TorchText](https://pytorch.org/text/stable/index.html), [TorchVision](https://pytorch.org/vision/stable/index.html), and [TorchAudio](https://pytorch.org/audio/stable/index.html), all of which include datasets. For this tutorial, we  will be using a TorchVision dataset.\n",
        "\n",
        "The ``torchvision.datasets`` module contains ``Dataset`` objects for many real-world vision data like CIFAR, COCO ([full list here](https://pytorch.org/docs/stable/torchvision/datasets.html)). In this tutorial, we'll use the **FashionMNIST** dataset. Every TorchVision ``Dataset`` includes two arguments: ``transform`` and ``target_transform`` to modify the samples and labels respectively.\n",
        "\n"
      ],
      "metadata": {}
    },
    {
      "cell_type": "code",
      "source": [
        "# Download training data from open datasets.\n",
        "training_data = datasets.FashionMNIST(\n",
        "    root=\"data\",\n",
        "    train=True,\n",
        "    download=True,\n",
        "    transform=ToTensor(),\n",
        ")\n",
        "\n",
        "# Download test data from open datasets.\n",
        "test_data = datasets.FashionMNIST(\n",
        "    root=\"data\",\n",
        "    train=False,\n",
        "    download=True,\n",
        "    transform=ToTensor(),\n",
        ")"
      ],
      "outputs": [
        {
          "output_type": "stream",
          "name": "stdout",
          "text": [
            "Using downloaded and verified file: data/FashionMNIST/raw/train-images-idx3-ubyte.gz\n",
            "Extracting data/FashionMNIST/raw/train-images-idx3-ubyte.gz to data/FashionMNIST/raw\n",
            "Using downloaded and verified file: data/FashionMNIST/raw/train-labels-idx1-ubyte.gz\n",
            "Extracting data/FashionMNIST/raw/train-labels-idx1-ubyte.gz to data/FashionMNIST/raw\n",
            "Using downloaded and verified file: data/FashionMNIST/raw/t10k-images-idx3-ubyte.gz\n",
            "Extracting data/FashionMNIST/raw/t10k-images-idx3-ubyte.gz to data/FashionMNIST/raw\n",
            "Using downloaded and verified file: data/FashionMNIST/raw/t10k-labels-idx1-ubyte.gz\n",
            "Extracting data/FashionMNIST/raw/t10k-labels-idx1-ubyte.gz to data/FashionMNIST/raw\n",
            "Processing...\n",
            "Done!\n"
          ]
        },
        {
          "output_type": "stream",
          "name": "stderr",
          "text": [
            "/anaconda/envs/py37_pytorch/lib/python3.7/site-packages/torchvision/datasets/mnist.py:480: UserWarning: The given NumPy array is not writeable, and PyTorch does not support non-writeable tensors. This means you can write to the underlying (supposedly non-writeable) NumPy array using the tensor. You may want to copy the array to protect its data or make it writeable before converting it to a tensor. This type of warning will be suppressed for the rest of this program. (Triggered internally at  /opt/conda/conda-bld/pytorch_1607370141920/work/torch/csrc/utils/tensor_numpy.cpp:141.)\n",
            "  return torch.from_numpy(parsed.astype(m[2], copy=False)).view(*s)\n"
          ]
        }
      ],
      "execution_count": 3,
      "metadata": {}
    },
    {
      "cell_type": "markdown",
      "source": [
        "We pass the ``Dataset`` as an argument to ``DataLoader``. This wraps an iterable over our dataset, and supports automatic batching, sampling, shuffling and multiprocess data loading. Here we define a batch size of 64, i.e. each element in the dataloader iterable will return a batch of 64 features and labels.\n",
        "\n"
      ],
      "metadata": {}
    },
    {
      "cell_type": "code",
      "source": [
        "batch_size = 64\n",
        "\n",
        "# Create data loaders.\n",
        "train_dataloader = DataLoader(training_data, batch_size=batch_size)\n",
        "test_dataloader = DataLoader(test_data, batch_size=batch_size)\n",
        "\n",
        "for X, y in test_dataloader:\n",
        "    print(f\"Shape of X [N, C, H, W]: {X.shape}\")\n",
        "    print(f\"Shape of y: {y.shape} {y.dtype}\")  # DataLoader will convert tensors, numpy arrays, numbers, dicts or lists into tensors automatically\n",
        "    break"
      ],
      "outputs": [
        {
          "output_type": "stream",
          "name": "stdout",
          "text": [
            "Shape of X [N, C, H, W]: torch.Size([64, 1, 28, 28])\n",
            "Shape of y: torch.Size([64]) torch.int64\n"
          ]
        }
      ],
      "execution_count": 4,
      "metadata": {}
    },
    {
      "cell_type": "markdown",
      "source": [
        "## Creating models\n",
        "To define a neural network in PyTorch, we create a class that inherits from [nn.Module](https://pytorch.org/docs/stable/generated/torch.nn.Module.html). We define the layers of the network in the ``__init__`` function and specify how data will pass through the network in the ``forward`` function. To accelerate operations in the neural network, we move it to the GPU if available.\n",
        "\n"
      ],
      "metadata": {}
    },
    {
      "cell_type": "code",
      "source": [
        "# Get cpu or gpu device for training.\n",
        "device = \"cuda\" if torch.cuda.is_available() else \"cpu\"\n",
        "print(f\"Using {device} device\")\n",
        "\n",
        "# Define model\n",
        "class NeuralNetwork(nn.Module):\n",
        "    def __init__(self):\n",
        "        super().__init__()\n",
        "        self.flatten = nn.Flatten()\n",
        "        self.linear_relu_stack = nn.Sequential(\n",
        "            nn.Linear(28 * 28, 512),\n",
        "            nn.ReLU(),\n",
        "            nn.Linear(512, 512),\n",
        "            nn.ReLU(),\n",
        "            nn.Linear(512, 10),\n",
        "            nn.ReLU()\n",
        "        )\n",
        "    \n",
        "    def forward(self, x):\n",
        "        x = self.flatten(x)\n",
        "        logits = self.linear_relu_stack(x)\n",
        "        return logits\n",
        "\n",
        "model = NeuralNetwork().to(device)\n",
        "print(model)  # only print the function in the same order they are defined in the init, not in the foward order"
      ],
      "outputs": [
        {
          "output_type": "stream",
          "name": "stdout",
          "text": [
            "Using cuda device\n",
            "NeuralNetwork(\n",
            "  (flatten): Flatten(start_dim=1, end_dim=-1)\n",
            "  (linear_relu_stack): Sequential(\n",
            "    (0): Linear(in_features=784, out_features=512, bias=True)\n",
            "    (1): ReLU()\n",
            "    (2): Linear(in_features=512, out_features=512, bias=True)\n",
            "    (3): ReLU()\n",
            "    (4): Linear(in_features=512, out_features=10, bias=True)\n",
            "    (5): ReLU()\n",
            "  )\n",
            ")\n"
          ]
        }
      ],
      "execution_count": 5,
      "metadata": {}
    },
    {
      "cell_type": "markdown",
      "source": [
        "## Optimizing the Model Parameters\n",
        "To train a model, we need a [loss function](https://pytorch.org/docs/stable/nn.html#loss-functions>) and an [optimizer](https://pytorch.org/docs/stable/optim.html). \n",
        "\n"
      ],
      "metadata": {}
    },
    {
      "cell_type": "code",
      "source": [
        "loss_fn = nn.CrossEntropyLoss()\n",
        "learning_rate = 1e-3\n",
        "optimizer = torch.optim.SGD(model.parameters(), lr=learning_rate)"
      ],
      "outputs": [],
      "execution_count": 6,
      "metadata": {}
    },
    {
      "cell_type": "markdown",
      "source": [
        "In a single training loop, the model makes predictions on the training dataset (fed to it in batches), and back-propagates the prediction error to adjust the model's parameters. \n",
        "\n"
      ],
      "metadata": {}
    },
    {
      "cell_type": "code",
      "source": [
        "def train(dataloader, model, loss_fn, optimizer):\n",
        "    size = len(dataloader.dataset)\n",
        "    for batch, (X, y) in enumerate(dataloader):\n",
        "        X, y = X.to(device), y.to(device)\n",
        "        \n",
        "        # Compute prediction error\n",
        "        pred = model(X)\n",
        "        loss = loss_fn(pred, y)\n",
        "        \n",
        "        # Backpropagation\n",
        "        optimizer.zero_grad()\n",
        "        loss.backward()\n",
        "        optimizer.step()\n",
        "\n",
        "        if batch % 100 == 0:\n",
        "            loss, current = loss.item(), batch * len(X)\n",
        "            print(f\"loss: {loss:>7f}  [{current:>5d}/{size:>5d}]\")"
      ],
      "outputs": [],
      "execution_count": 7,
      "metadata": {}
    },
    {
      "cell_type": "markdown",
      "source": [
        "We can also check the model's performance against the test dataset to ensure it is learning.\n"
      ],
      "metadata": {}
    },
    {
      "cell_type": "code",
      "source": [
        "def test(dataloader, model):\n",
        "    size = len(dataloader.dataset)\n",
        "    model.eval()\n",
        "    test_loss, correct = 0, 0\n",
        "    with torch.no_grad():\n",
        "        for X, y in dataloader:\n",
        "            X, y = X.to(device), y.to(device)\n",
        "            pred = model(X)\n",
        "            test_loss += loss_fn(pred, y).item()\n",
        "            correct += (pred.argmax(1) == y).type(torch.float).sum().item()  # argmax(): Returns the \"indices\" of the maximum value\n",
        "    test_loss /= size\n",
        "    correct /= size\n",
        "    print(f\"Test Error: \\n Accuracy: {(100*correct):>0.1f}%, Avg loss: {test_loss:>8f} \\n\")"
      ],
      "outputs": [],
      "execution_count": 8,
      "metadata": {}
    },
    {
      "cell_type": "markdown",
      "source": [
        "The training process is conducted over several iterations (*epochs*). During each epoch, the model learns parameters to make better predictions. We print the model's accuracy and loss at each epoch; we'd like to see the accuracy increase and the loss decrease with every epoch.\n",
        "\n"
      ],
      "metadata": {}
    },
    {
      "cell_type": "code",
      "source": [
        "epochs = 15\n",
        "for t in range(epochs):\n",
        "    print(f\"Epoch {t+1}\\n-------------------------------\")\n",
        "    train(train_dataloader, model, loss_fn, optimizer)\n",
        "    test(test_dataloader, model)\n",
        "print(\"Done!\")"
      ],
      "outputs": [
        {
          "output_type": "stream",
          "name": "stdout",
          "text": [
            "Epoch 1\n",
            "-------------------------------\n",
            "loss: 2.307155  [    0/60000]\n",
            "loss: 2.303274  [ 6400/60000]\n",
            "loss: 2.287119  [12800/60000]\n",
            "loss: 2.286981  [19200/60000]\n",
            "loss: 2.279891  [25600/60000]\n",
            "loss: 2.240829  [32000/60000]\n",
            "loss: 2.263269  [38400/60000]\n",
            "loss: 2.229538  [44800/60000]\n",
            "loss: 2.230262  [51200/60000]\n",
            "loss: 2.210367  [57600/60000]\n",
            "Test Error: \n",
            " Accuracy: 38.6%, Avg loss: 0.034775 \n",
            "\n",
            "Epoch 2\n",
            "-------------------------------\n",
            "loss: 2.208834  [    0/60000]\n",
            "loss: 2.214359  [ 6400/60000]\n",
            "loss: 2.173422  [12800/60000]\n",
            "loss: 2.203685  [19200/60000]\n",
            "loss: 2.171175  [25600/60000]\n",
            "loss: 2.095417  [32000/60000]\n",
            "loss: 2.154797  [38400/60000]\n",
            "loss: 2.085582  [44800/60000]\n",
            "loss: 2.106559  [51200/60000]\n",
            "loss: 2.055225  [57600/60000]\n",
            "Test Error: \n",
            " Accuracy: 47.8%, Avg loss: 0.032459 \n",
            "\n",
            "Epoch 3\n",
            "-------------------------------\n",
            "loss: 2.059822  [    0/60000]\n",
            "loss: 2.056601  [ 6400/60000]\n",
            "loss: 1.983377  [12800/60000]\n",
            "loss: 2.060590  [19200/60000]\n",
            "loss: 1.976530  [25600/60000]\n",
            "loss: 1.862831  [32000/60000]\n",
            "loss: 1.968041  [38400/60000]\n",
            "loss: 1.849545  [44800/60000]\n",
            "loss: 1.913904  [51200/60000]\n",
            "loss: 1.824457  [57600/60000]\n",
            "Test Error: \n",
            " Accuracy: 51.9%, Avg loss: 0.028998 \n",
            "\n",
            "Epoch 4\n",
            "-------------------------------\n",
            "loss: 1.838347  [    0/60000]\n",
            "loss: 1.818913  [ 6400/60000]\n",
            "loss: 1.725174  [12800/60000]\n",
            "loss: 1.865639  [19200/60000]\n",
            "loss: 1.758307  [25600/60000]\n",
            "loss: 1.614050  [32000/60000]\n",
            "loss: 1.756998  [38400/60000]\n",
            "loss: 1.615208  [44800/60000]\n",
            "loss: 1.726282  [51200/60000]\n",
            "loss: 1.605056  [57600/60000]\n",
            "Test Error: \n",
            " Accuracy: 54.5%, Avg loss: 0.025879 \n",
            "\n",
            "Epoch 5\n",
            "-------------------------------\n",
            "loss: 1.634982  [    0/60000]\n",
            "loss: 1.615491  [ 6400/60000]\n",
            "loss: 1.515340  [12800/60000]\n",
            "loss: 1.701757  [19200/60000]\n",
            "loss: 1.618409  [25600/60000]\n",
            "loss: 1.438493  [32000/60000]\n",
            "loss: 1.600331  [38400/60000]\n",
            "loss: 1.457382  [44800/60000]\n",
            "loss: 1.599404  [51200/60000]\n",
            "loss: 1.452509  [57600/60000]\n",
            "Test Error: \n",
            " Accuracy: 55.5%, Avg loss: 0.023771 \n",
            "\n",
            "Epoch 6\n",
            "-------------------------------\n",
            "loss: 1.497498  [    0/60000]\n",
            "loss: 1.485273  [ 6400/60000]\n",
            "loss: 1.374087  [12800/60000]\n",
            "loss: 1.591435  [19200/60000]\n",
            "loss: 1.531583  [25600/60000]\n",
            "loss: 1.320144  [32000/60000]\n",
            "loss: 1.497612  [38400/60000]\n",
            "loss: 1.355024  [44800/60000]\n",
            "loss: 1.512941  [51200/60000]\n",
            "loss: 1.353769  [57600/60000]\n",
            "Test Error: \n",
            " Accuracy: 56.3%, Avg loss: 0.022311 \n",
            "\n",
            "Epoch 7\n",
            "-------------------------------\n",
            "loss: 1.402300  [    0/60000]\n",
            "loss: 1.400836  [ 6400/60000]\n",
            "loss: 1.273875  [12800/60000]\n",
            "loss: 1.513025  [19200/60000]\n",
            "loss: 1.467272  [25600/60000]\n",
            "loss: 1.234905  [32000/60000]\n",
            "loss: 1.427061  [38400/60000]\n",
            "loss: 1.283736  [44800/60000]\n",
            "loss: 1.446675  [51200/60000]\n",
            "loss: 1.285566  [57600/60000]\n",
            "Test Error: \n",
            " Accuracy: 56.8%, Avg loss: 0.021225 \n",
            "\n",
            "Epoch 8\n",
            "-------------------------------\n",
            "loss: 1.330602  [    0/60000]\n",
            "loss: 1.341379  [ 6400/60000]\n",
            "loss: 1.199424  [12800/60000]\n",
            "loss: 1.454084  [19200/60000]\n",
            "loss: 1.416877  [25600/60000]\n",
            "loss: 1.170800  [32000/60000]\n",
            "loss: 1.376458  [38400/60000]\n",
            "loss: 1.231677  [44800/60000]\n",
            "loss: 1.393443  [51200/60000]\n",
            "loss: 1.238335  [57600/60000]\n",
            "Test Error: \n",
            " Accuracy: 57.1%, Avg loss: 0.020408 \n",
            "\n",
            "Epoch 9\n",
            "-------------------------------\n",
            "loss: 1.274368  [    0/60000]\n",
            "loss: 1.297004  [ 6400/60000]\n",
            "loss: 1.142598  [12800/60000]\n",
            "loss: 1.409403  [19200/60000]\n",
            "loss: 1.376868  [25600/60000]\n",
            "loss: 1.121813  [32000/60000]\n",
            "loss: 1.339047  [38400/60000]\n",
            "loss: 1.193401  [44800/60000]\n",
            "loss: 1.350823  [51200/60000]\n",
            "loss: 1.202494  [57600/60000]\n",
            "Test Error: \n",
            " Accuracy: 57.6%, Avg loss: 0.019776 \n",
            "\n",
            "Epoch 10\n",
            "-------------------------------\n",
            "loss: 1.228375  [    0/60000]\n",
            "loss: 1.263374  [ 6400/60000]\n",
            "loss: 1.097450  [12800/60000]\n",
            "loss: 1.373182  [19200/60000]\n",
            "loss: 1.343176  [25600/60000]\n",
            "loss: 1.083064  [32000/60000]\n",
            "loss: 1.309379  [38400/60000]\n",
            "loss: 1.164250  [44800/60000]\n",
            "loss: 1.315748  [51200/60000]\n",
            "loss: 1.173727  [57600/60000]\n",
            "Test Error: \n",
            " Accuracy: 57.9%, Avg loss: 0.019262 \n",
            "\n",
            "Epoch 11\n",
            "-------------------------------\n",
            "loss: 1.189556  [    0/60000]\n",
            "loss: 1.236402  [ 6400/60000]\n",
            "loss: 1.060270  [12800/60000]\n",
            "loss: 1.342491  [19200/60000]\n",
            "loss: 1.314380  [25600/60000]\n",
            "loss: 1.051281  [32000/60000]\n",
            "loss: 1.284966  [38400/60000]\n",
            "loss: 1.141203  [44800/60000]\n",
            "loss: 1.286705  [51200/60000]\n",
            "loss: 1.149976  [57600/60000]\n",
            "Test Error: \n",
            " Accuracy: 58.2%, Avg loss: 0.018833 \n",
            "\n",
            "Epoch 12\n",
            "-------------------------------\n",
            "loss: 1.156081  [    0/60000]\n",
            "loss: 1.213769  [ 6400/60000]\n",
            "loss: 1.028827  [12800/60000]\n",
            "loss: 1.316013  [19200/60000]\n",
            "loss: 1.289336  [25600/60000]\n",
            "loss: 1.025468  [32000/60000]\n",
            "loss: 1.264482  [38400/60000]\n",
            "loss: 1.122774  [44800/60000]\n",
            "loss: 1.262797  [51200/60000]\n",
            "loss: 1.130143  [57600/60000]\n",
            "Test Error: \n",
            " Accuracy: 58.6%, Avg loss: 0.018470 \n",
            "\n",
            "Epoch 13\n",
            "-------------------------------\n",
            "loss: 1.126612  [    0/60000]\n",
            "loss: 1.193967  [ 6400/60000]\n",
            "loss: 1.001801  [12800/60000]\n",
            "loss: 1.293299  [19200/60000]\n",
            "loss: 1.268312  [25600/60000]\n",
            "loss: 1.003943  [32000/60000]\n",
            "loss: 1.247099  [38400/60000]\n",
            "loss: 1.108331  [44800/60000]\n",
            "loss: 1.242761  [51200/60000]\n",
            "loss: 1.113832  [57600/60000]\n",
            "Test Error: \n",
            " Accuracy: 58.9%, Avg loss: 0.018165 \n",
            "\n",
            "Epoch 14\n",
            "-------------------------------\n",
            "loss: 1.100799  [    0/60000]\n",
            "loss: 1.176469  [ 6400/60000]\n",
            "loss: 0.979034  [12800/60000]\n",
            "loss: 1.273580  [19200/60000]\n",
            "loss: 1.250317  [25600/60000]\n",
            "loss: 0.985551  [32000/60000]\n",
            "loss: 1.232136  [38400/60000]\n",
            "loss: 1.097063  [44800/60000]\n",
            "loss: 1.226564  [51200/60000]\n",
            "loss: 1.099776  [57600/60000]\n",
            "Test Error: \n",
            " Accuracy: 59.2%, Avg loss: 0.017904 \n",
            "\n",
            "Epoch 15\n",
            "-------------------------------\n",
            "loss: 1.078114  [    0/60000]\n",
            "loss: 1.160749  [ 6400/60000]\n",
            "loss: 0.959289  [12800/60000]\n",
            "loss: 1.256568  [19200/60000]\n",
            "loss: 1.234978  [25600/60000]\n",
            "loss: 0.970476  [32000/60000]\n",
            "loss: 1.219265  [38400/60000]\n",
            "loss: 1.088085  [44800/60000]\n",
            "loss: 1.213247  [51200/60000]\n",
            "loss: 1.087000  [57600/60000]\n",
            "Test Error: \n",
            " Accuracy: 59.6%, Avg loss: 0.017675 \n",
            "\n",
            "Done!\n"
          ]
        }
      ],
      "execution_count": 9,
      "metadata": {}
    },
    {
      "cell_type": "markdown",
      "source": [
        "The accuracy will initially not be very good (that's OK!). Try running the loop for more `epochs` or adjusting the `learning_rate` to a bigger number. It might also be the case that the model configuration we chose might not be the optimal one for this kind of problem (it isn't). Later courses will delve more into the model shapes that work for vision problems."
      ],
      "metadata": {}
    },
    {
      "cell_type": "markdown",
      "source": [
        "Saving Models\n",
        "-------------\n",
        "A common way to save a model is to serialize the internal state dictionary (containing the model parameters).\n",
        "\n"
      ],
      "metadata": {}
    },
    {
      "cell_type": "code",
      "source": [
        "torch.save(model.state_dict(), \"data/model.pth\")\n",
        "print(\"Saved PyTorch Model State to model.pth\")"
      ],
      "outputs": [
        {
          "output_type": "stream",
          "name": "stdout",
          "text": [
            "Saved PyTorch Model State to model.pth\n"
          ]
        }
      ],
      "execution_count": 10,
      "metadata": {}
    },
    {
      "cell_type": "markdown",
      "source": [
        "Loading Models\n",
        "----------------------------\n",
        "\n",
        "The process for loading a model includes re-creating the model structure and loading\n",
        "the state dictionary into it. \n",
        "\n"
      ],
      "metadata": {}
    },
    {
      "cell_type": "code",
      "source": [
        "model = NeuralNetwork()\n",
        "model.load_state_dict(torch.load(\"data/model.pth\"))"
      ],
      "outputs": [
        {
          "output_type": "execute_result",
          "execution_count": 11,
          "data": {
            "text/plain": "<All keys matched successfully>"
          },
          "metadata": {}
        }
      ],
      "execution_count": 11,
      "metadata": {}
    },
    {
      "cell_type": "markdown",
      "source": [
        "This model can now be used to make predictions.\n",
        "\n"
      ],
      "metadata": {}
    },
    {
      "cell_type": "code",
      "source": [
        "classes = [\n",
        "    \"T-shirt/top\",\n",
        "    \"Trouser\",\n",
        "    \"Pullover\",\n",
        "    \"Dress\",\n",
        "    \"Coat\",\n",
        "    \"Sandal\",\n",
        "    \"Shirt\",\n",
        "    \"Sneaker\",\n",
        "    \"Bag\",\n",
        "    \"Ankle boot\",\n",
        "]\n",
        "\n",
        "model.eval()\n",
        "x, y = test_data[0][0], test_data[0][1]\n",
        "with torch.no_grad():\n",
        "    pred = model(x)\n",
        "    predicted, actual = classes[pred[0].argmax(0)], classes[y]\n",
        "    print(f'Predicted: \"{predicted}\", Actual: \"{actual}\"')"
      ],
      "outputs": [
        {
          "output_type": "stream",
          "name": "stdout",
          "text": [
            "Predicted: \"Ankle boot\", Actual: \"Ankle boot\"\n"
          ]
        }
      ],
      "execution_count": 12,
      "metadata": {}
    }
  ],
  "metadata": {
    "kernelspec": {
      "name": "conda-env-py37_pytorch-py",
      "language": "python",
      "display_name": "py37_pytorch"
    },
    "language_info": {
      "name": "python",
      "version": "3.7.9",
      "mimetype": "text/x-python",
      "codemirror_mode": {
        "name": "ipython",
        "version": 3
      },
      "pygments_lexer": "ipython3",
      "nbconvert_exporter": "python",
      "file_extension": ".py"
    },
    "kernel_info": {
      "name": "conda-env-py37_pytorch-py"
    },
    "nteract": {
      "version": "nteract-front-end@1.0.0"
    }
  },
  "nbformat": 4,
  "nbformat_minor": 1
}