{
  "nbformat": 4,
  "nbformat_minor": 0,
  "metadata": {
    "colab": {
      "name": "Unit 9 - The full model building process.ipynb",
      "provenance": [],
      "collapsed_sections": []
    },
    "kernelspec": {
      "name": "python3",
      "display_name": "Python 3"
    },
    "language_info": {
      "name": "python"
    },
    "accelerator": "GPU",
    "widgets": {
      "application/vnd.jupyter.widget-state+json": {
        "9be604fb4ebe45b48b3c036f2721ecbc": {
          "model_module": "@jupyter-widgets/controls",
          "model_name": "HBoxModel",
          "state": {
            "_view_name": "HBoxView",
            "_dom_classes": [],
            "_model_name": "HBoxModel",
            "_view_module": "@jupyter-widgets/controls",
            "_model_module_version": "1.5.0",
            "_view_count": null,
            "_view_module_version": "1.5.0",
            "box_style": "",
            "layout": "IPY_MODEL_722ee29b62f7487284e28978fe583443",
            "_model_module": "@jupyter-widgets/controls",
            "children": [
              "IPY_MODEL_9608df84e6af409c88c90df93c0f1915",
              "IPY_MODEL_16bceb80e4704f29ba3595ea256e0bdf"
            ]
          }
        },
        "722ee29b62f7487284e28978fe583443": {
          "model_module": "@jupyter-widgets/base",
          "model_name": "LayoutModel",
          "state": {
            "_view_name": "LayoutView",
            "grid_template_rows": null,
            "right": null,
            "justify_content": null,
            "_view_module": "@jupyter-widgets/base",
            "overflow": null,
            "_model_module_version": "1.2.0",
            "_view_count": null,
            "flex_flow": null,
            "width": null,
            "min_width": null,
            "border": null,
            "align_items": null,
            "bottom": null,
            "_model_module": "@jupyter-widgets/base",
            "top": null,
            "grid_column": null,
            "overflow_y": null,
            "overflow_x": null,
            "grid_auto_flow": null,
            "grid_area": null,
            "grid_template_columns": null,
            "flex": null,
            "_model_name": "LayoutModel",
            "justify_items": null,
            "grid_row": null,
            "max_height": null,
            "align_content": null,
            "visibility": null,
            "align_self": null,
            "height": null,
            "min_height": null,
            "padding": null,
            "grid_auto_rows": null,
            "grid_gap": null,
            "max_width": null,
            "order": null,
            "_view_module_version": "1.2.0",
            "grid_template_areas": null,
            "object_position": null,
            "object_fit": null,
            "grid_auto_columns": null,
            "margin": null,
            "display": null,
            "left": null
          }
        },
        "9608df84e6af409c88c90df93c0f1915": {
          "model_module": "@jupyter-widgets/controls",
          "model_name": "FloatProgressModel",
          "state": {
            "_view_name": "ProgressView",
            "style": "IPY_MODEL_63fa4679e40047d8a492dd657c3f3bce",
            "_dom_classes": [],
            "description": "",
            "_model_name": "FloatProgressModel",
            "bar_style": "success",
            "max": 26421880,
            "_view_module": "@jupyter-widgets/controls",
            "_model_module_version": "1.5.0",
            "value": 26421880,
            "_view_count": null,
            "_view_module_version": "1.5.0",
            "orientation": "horizontal",
            "min": 0,
            "description_tooltip": null,
            "_model_module": "@jupyter-widgets/controls",
            "layout": "IPY_MODEL_19aee2ad459d4ff0a90c2ea76fd192bd"
          }
        },
        "16bceb80e4704f29ba3595ea256e0bdf": {
          "model_module": "@jupyter-widgets/controls",
          "model_name": "HTMLModel",
          "state": {
            "_view_name": "HTMLView",
            "style": "IPY_MODEL_97bdb5bb324a48b79872a6c1d10df31b",
            "_dom_classes": [],
            "description": "",
            "_model_name": "HTMLModel",
            "placeholder": "​",
            "_view_module": "@jupyter-widgets/controls",
            "_model_module_version": "1.5.0",
            "value": " 26422272/? [00:00&lt;00:00, 59120819.93it/s]",
            "_view_count": null,
            "_view_module_version": "1.5.0",
            "description_tooltip": null,
            "_model_module": "@jupyter-widgets/controls",
            "layout": "IPY_MODEL_3b6d689246374c3f80439a819d12d17d"
          }
        },
        "63fa4679e40047d8a492dd657c3f3bce": {
          "model_module": "@jupyter-widgets/controls",
          "model_name": "ProgressStyleModel",
          "state": {
            "_view_name": "StyleView",
            "_model_name": "ProgressStyleModel",
            "description_width": "initial",
            "_view_module": "@jupyter-widgets/base",
            "_model_module_version": "1.5.0",
            "_view_count": null,
            "_view_module_version": "1.2.0",
            "bar_color": null,
            "_model_module": "@jupyter-widgets/controls"
          }
        },
        "19aee2ad459d4ff0a90c2ea76fd192bd": {
          "model_module": "@jupyter-widgets/base",
          "model_name": "LayoutModel",
          "state": {
            "_view_name": "LayoutView",
            "grid_template_rows": null,
            "right": null,
            "justify_content": null,
            "_view_module": "@jupyter-widgets/base",
            "overflow": null,
            "_model_module_version": "1.2.0",
            "_view_count": null,
            "flex_flow": null,
            "width": null,
            "min_width": null,
            "border": null,
            "align_items": null,
            "bottom": null,
            "_model_module": "@jupyter-widgets/base",
            "top": null,
            "grid_column": null,
            "overflow_y": null,
            "overflow_x": null,
            "grid_auto_flow": null,
            "grid_area": null,
            "grid_template_columns": null,
            "flex": null,
            "_model_name": "LayoutModel",
            "justify_items": null,
            "grid_row": null,
            "max_height": null,
            "align_content": null,
            "visibility": null,
            "align_self": null,
            "height": null,
            "min_height": null,
            "padding": null,
            "grid_auto_rows": null,
            "grid_gap": null,
            "max_width": null,
            "order": null,
            "_view_module_version": "1.2.0",
            "grid_template_areas": null,
            "object_position": null,
            "object_fit": null,
            "grid_auto_columns": null,
            "margin": null,
            "display": null,
            "left": null
          }
        },
        "97bdb5bb324a48b79872a6c1d10df31b": {
          "model_module": "@jupyter-widgets/controls",
          "model_name": "DescriptionStyleModel",
          "state": {
            "_view_name": "StyleView",
            "_model_name": "DescriptionStyleModel",
            "description_width": "",
            "_view_module": "@jupyter-widgets/base",
            "_model_module_version": "1.5.0",
            "_view_count": null,
            "_view_module_version": "1.2.0",
            "_model_module": "@jupyter-widgets/controls"
          }
        },
        "3b6d689246374c3f80439a819d12d17d": {
          "model_module": "@jupyter-widgets/base",
          "model_name": "LayoutModel",
          "state": {
            "_view_name": "LayoutView",
            "grid_template_rows": null,
            "right": null,
            "justify_content": null,
            "_view_module": "@jupyter-widgets/base",
            "overflow": null,
            "_model_module_version": "1.2.0",
            "_view_count": null,
            "flex_flow": null,
            "width": null,
            "min_width": null,
            "border": null,
            "align_items": null,
            "bottom": null,
            "_model_module": "@jupyter-widgets/base",
            "top": null,
            "grid_column": null,
            "overflow_y": null,
            "overflow_x": null,
            "grid_auto_flow": null,
            "grid_area": null,
            "grid_template_columns": null,
            "flex": null,
            "_model_name": "LayoutModel",
            "justify_items": null,
            "grid_row": null,
            "max_height": null,
            "align_content": null,
            "visibility": null,
            "align_self": null,
            "height": null,
            "min_height": null,
            "padding": null,
            "grid_auto_rows": null,
            "grid_gap": null,
            "max_width": null,
            "order": null,
            "_view_module_version": "1.2.0",
            "grid_template_areas": null,
            "object_position": null,
            "object_fit": null,
            "grid_auto_columns": null,
            "margin": null,
            "display": null,
            "left": null
          }
        },
        "62211f2b1fc7448abb8c856485074a5b": {
          "model_module": "@jupyter-widgets/controls",
          "model_name": "HBoxModel",
          "state": {
            "_view_name": "HBoxView",
            "_dom_classes": [],
            "_model_name": "HBoxModel",
            "_view_module": "@jupyter-widgets/controls",
            "_model_module_version": "1.5.0",
            "_view_count": null,
            "_view_module_version": "1.5.0",
            "box_style": "",
            "layout": "IPY_MODEL_9142b6b00b024557bead1f369a6b3467",
            "_model_module": "@jupyter-widgets/controls",
            "children": [
              "IPY_MODEL_e7e97e2cb59e4fc785736b203540bda9",
              "IPY_MODEL_2432923b86464a70be998224de8bf61b"
            ]
          }
        },
        "9142b6b00b024557bead1f369a6b3467": {
          "model_module": "@jupyter-widgets/base",
          "model_name": "LayoutModel",
          "state": {
            "_view_name": "LayoutView",
            "grid_template_rows": null,
            "right": null,
            "justify_content": null,
            "_view_module": "@jupyter-widgets/base",
            "overflow": null,
            "_model_module_version": "1.2.0",
            "_view_count": null,
            "flex_flow": null,
            "width": null,
            "min_width": null,
            "border": null,
            "align_items": null,
            "bottom": null,
            "_model_module": "@jupyter-widgets/base",
            "top": null,
            "grid_column": null,
            "overflow_y": null,
            "overflow_x": null,
            "grid_auto_flow": null,
            "grid_area": null,
            "grid_template_columns": null,
            "flex": null,
            "_model_name": "LayoutModel",
            "justify_items": null,
            "grid_row": null,
            "max_height": null,
            "align_content": null,
            "visibility": null,
            "align_self": null,
            "height": null,
            "min_height": null,
            "padding": null,
            "grid_auto_rows": null,
            "grid_gap": null,
            "max_width": null,
            "order": null,
            "_view_module_version": "1.2.0",
            "grid_template_areas": null,
            "object_position": null,
            "object_fit": null,
            "grid_auto_columns": null,
            "margin": null,
            "display": null,
            "left": null
          }
        },
        "e7e97e2cb59e4fc785736b203540bda9": {
          "model_module": "@jupyter-widgets/controls",
          "model_name": "FloatProgressModel",
          "state": {
            "_view_name": "ProgressView",
            "style": "IPY_MODEL_21326d6cd88e44bea62f564f97f7e1cc",
            "_dom_classes": [],
            "description": "",
            "_model_name": "FloatProgressModel",
            "bar_style": "success",
            "max": 29515,
            "_view_module": "@jupyter-widgets/controls",
            "_model_module_version": "1.5.0",
            "value": 29515,
            "_view_count": null,
            "_view_module_version": "1.5.0",
            "orientation": "horizontal",
            "min": 0,
            "description_tooltip": null,
            "_model_module": "@jupyter-widgets/controls",
            "layout": "IPY_MODEL_f2ce921a63ed49108b74c5aa15159354"
          }
        },
        "2432923b86464a70be998224de8bf61b": {
          "model_module": "@jupyter-widgets/controls",
          "model_name": "HTMLModel",
          "state": {
            "_view_name": "HTMLView",
            "style": "IPY_MODEL_63f99f689fd94737b3ce9677a1452bb9",
            "_dom_classes": [],
            "description": "",
            "_model_name": "HTMLModel",
            "placeholder": "​",
            "_view_module": "@jupyter-widgets/controls",
            "_model_module_version": "1.5.0",
            "value": " 29696/? [00:00&lt;00:00, 724450.51it/s]",
            "_view_count": null,
            "_view_module_version": "1.5.0",
            "description_tooltip": null,
            "_model_module": "@jupyter-widgets/controls",
            "layout": "IPY_MODEL_4ffb127e47b0401a8525d3a8297bc831"
          }
        },
        "21326d6cd88e44bea62f564f97f7e1cc": {
          "model_module": "@jupyter-widgets/controls",
          "model_name": "ProgressStyleModel",
          "state": {
            "_view_name": "StyleView",
            "_model_name": "ProgressStyleModel",
            "description_width": "initial",
            "_view_module": "@jupyter-widgets/base",
            "_model_module_version": "1.5.0",
            "_view_count": null,
            "_view_module_version": "1.2.0",
            "bar_color": null,
            "_model_module": "@jupyter-widgets/controls"
          }
        },
        "f2ce921a63ed49108b74c5aa15159354": {
          "model_module": "@jupyter-widgets/base",
          "model_name": "LayoutModel",
          "state": {
            "_view_name": "LayoutView",
            "grid_template_rows": null,
            "right": null,
            "justify_content": null,
            "_view_module": "@jupyter-widgets/base",
            "overflow": null,
            "_model_module_version": "1.2.0",
            "_view_count": null,
            "flex_flow": null,
            "width": null,
            "min_width": null,
            "border": null,
            "align_items": null,
            "bottom": null,
            "_model_module": "@jupyter-widgets/base",
            "top": null,
            "grid_column": null,
            "overflow_y": null,
            "overflow_x": null,
            "grid_auto_flow": null,
            "grid_area": null,
            "grid_template_columns": null,
            "flex": null,
            "_model_name": "LayoutModel",
            "justify_items": null,
            "grid_row": null,
            "max_height": null,
            "align_content": null,
            "visibility": null,
            "align_self": null,
            "height": null,
            "min_height": null,
            "padding": null,
            "grid_auto_rows": null,
            "grid_gap": null,
            "max_width": null,
            "order": null,
            "_view_module_version": "1.2.0",
            "grid_template_areas": null,
            "object_position": null,
            "object_fit": null,
            "grid_auto_columns": null,
            "margin": null,
            "display": null,
            "left": null
          }
        },
        "63f99f689fd94737b3ce9677a1452bb9": {
          "model_module": "@jupyter-widgets/controls",
          "model_name": "DescriptionStyleModel",
          "state": {
            "_view_name": "StyleView",
            "_model_name": "DescriptionStyleModel",
            "description_width": "",
            "_view_module": "@jupyter-widgets/base",
            "_model_module_version": "1.5.0",
            "_view_count": null,
            "_view_module_version": "1.2.0",
            "_model_module": "@jupyter-widgets/controls"
          }
        },
        "4ffb127e47b0401a8525d3a8297bc831": {
          "model_module": "@jupyter-widgets/base",
          "model_name": "LayoutModel",
          "state": {
            "_view_name": "LayoutView",
            "grid_template_rows": null,
            "right": null,
            "justify_content": null,
            "_view_module": "@jupyter-widgets/base",
            "overflow": null,
            "_model_module_version": "1.2.0",
            "_view_count": null,
            "flex_flow": null,
            "width": null,
            "min_width": null,
            "border": null,
            "align_items": null,
            "bottom": null,
            "_model_module": "@jupyter-widgets/base",
            "top": null,
            "grid_column": null,
            "overflow_y": null,
            "overflow_x": null,
            "grid_auto_flow": null,
            "grid_area": null,
            "grid_template_columns": null,
            "flex": null,
            "_model_name": "LayoutModel",
            "justify_items": null,
            "grid_row": null,
            "max_height": null,
            "align_content": null,
            "visibility": null,
            "align_self": null,
            "height": null,
            "min_height": null,
            "padding": null,
            "grid_auto_rows": null,
            "grid_gap": null,
            "max_width": null,
            "order": null,
            "_view_module_version": "1.2.0",
            "grid_template_areas": null,
            "object_position": null,
            "object_fit": null,
            "grid_auto_columns": null,
            "margin": null,
            "display": null,
            "left": null
          }
        },
        "d7ec9629374642c1ba911bf71413d692": {
          "model_module": "@jupyter-widgets/controls",
          "model_name": "HBoxModel",
          "state": {
            "_view_name": "HBoxView",
            "_dom_classes": [],
            "_model_name": "HBoxModel",
            "_view_module": "@jupyter-widgets/controls",
            "_model_module_version": "1.5.0",
            "_view_count": null,
            "_view_module_version": "1.5.0",
            "box_style": "",
            "layout": "IPY_MODEL_15f5ea9fc55f42a09b41dbac86b32fa8",
            "_model_module": "@jupyter-widgets/controls",
            "children": [
              "IPY_MODEL_cdfb6fe9239e48579655a32c7f418f20",
              "IPY_MODEL_c327eba8f7014fe199712f9eefc1059d"
            ]
          }
        },
        "15f5ea9fc55f42a09b41dbac86b32fa8": {
          "model_module": "@jupyter-widgets/base",
          "model_name": "LayoutModel",
          "state": {
            "_view_name": "LayoutView",
            "grid_template_rows": null,
            "right": null,
            "justify_content": null,
            "_view_module": "@jupyter-widgets/base",
            "overflow": null,
            "_model_module_version": "1.2.0",
            "_view_count": null,
            "flex_flow": null,
            "width": null,
            "min_width": null,
            "border": null,
            "align_items": null,
            "bottom": null,
            "_model_module": "@jupyter-widgets/base",
            "top": null,
            "grid_column": null,
            "overflow_y": null,
            "overflow_x": null,
            "grid_auto_flow": null,
            "grid_area": null,
            "grid_template_columns": null,
            "flex": null,
            "_model_name": "LayoutModel",
            "justify_items": null,
            "grid_row": null,
            "max_height": null,
            "align_content": null,
            "visibility": null,
            "align_self": null,
            "height": null,
            "min_height": null,
            "padding": null,
            "grid_auto_rows": null,
            "grid_gap": null,
            "max_width": null,
            "order": null,
            "_view_module_version": "1.2.0",
            "grid_template_areas": null,
            "object_position": null,
            "object_fit": null,
            "grid_auto_columns": null,
            "margin": null,
            "display": null,
            "left": null
          }
        },
        "cdfb6fe9239e48579655a32c7f418f20": {
          "model_module": "@jupyter-widgets/controls",
          "model_name": "FloatProgressModel",
          "state": {
            "_view_name": "ProgressView",
            "style": "IPY_MODEL_513cc3ce629e48df94acecbb1a8e1ca6",
            "_dom_classes": [],
            "description": "",
            "_model_name": "FloatProgressModel",
            "bar_style": "success",
            "max": 4422102,
            "_view_module": "@jupyter-widgets/controls",
            "_model_module_version": "1.5.0",
            "value": 4422102,
            "_view_count": null,
            "_view_module_version": "1.5.0",
            "orientation": "horizontal",
            "min": 0,
            "description_tooltip": null,
            "_model_module": "@jupyter-widgets/controls",
            "layout": "IPY_MODEL_cfd1b77587ad4a298f914b37c757b294"
          }
        },
        "c327eba8f7014fe199712f9eefc1059d": {
          "model_module": "@jupyter-widgets/controls",
          "model_name": "HTMLModel",
          "state": {
            "_view_name": "HTMLView",
            "style": "IPY_MODEL_f6449e9467eb4e8e9e34c14e2993932a",
            "_dom_classes": [],
            "description": "",
            "_model_name": "HTMLModel",
            "placeholder": "​",
            "_view_module": "@jupyter-widgets/controls",
            "_model_module_version": "1.5.0",
            "value": " 4422656/? [00:00&lt;00:00, 5483354.59it/s]",
            "_view_count": null,
            "_view_module_version": "1.5.0",
            "description_tooltip": null,
            "_model_module": "@jupyter-widgets/controls",
            "layout": "IPY_MODEL_8577b3453dc549b6ba0dd9ff0708fc63"
          }
        },
        "513cc3ce629e48df94acecbb1a8e1ca6": {
          "model_module": "@jupyter-widgets/controls",
          "model_name": "ProgressStyleModel",
          "state": {
            "_view_name": "StyleView",
            "_model_name": "ProgressStyleModel",
            "description_width": "initial",
            "_view_module": "@jupyter-widgets/base",
            "_model_module_version": "1.5.0",
            "_view_count": null,
            "_view_module_version": "1.2.0",
            "bar_color": null,
            "_model_module": "@jupyter-widgets/controls"
          }
        },
        "cfd1b77587ad4a298f914b37c757b294": {
          "model_module": "@jupyter-widgets/base",
          "model_name": "LayoutModel",
          "state": {
            "_view_name": "LayoutView",
            "grid_template_rows": null,
            "right": null,
            "justify_content": null,
            "_view_module": "@jupyter-widgets/base",
            "overflow": null,
            "_model_module_version": "1.2.0",
            "_view_count": null,
            "flex_flow": null,
            "width": null,
            "min_width": null,
            "border": null,
            "align_items": null,
            "bottom": null,
            "_model_module": "@jupyter-widgets/base",
            "top": null,
            "grid_column": null,
            "overflow_y": null,
            "overflow_x": null,
            "grid_auto_flow": null,
            "grid_area": null,
            "grid_template_columns": null,
            "flex": null,
            "_model_name": "LayoutModel",
            "justify_items": null,
            "grid_row": null,
            "max_height": null,
            "align_content": null,
            "visibility": null,
            "align_self": null,
            "height": null,
            "min_height": null,
            "padding": null,
            "grid_auto_rows": null,
            "grid_gap": null,
            "max_width": null,
            "order": null,
            "_view_module_version": "1.2.0",
            "grid_template_areas": null,
            "object_position": null,
            "object_fit": null,
            "grid_auto_columns": null,
            "margin": null,
            "display": null,
            "left": null
          }
        },
        "f6449e9467eb4e8e9e34c14e2993932a": {
          "model_module": "@jupyter-widgets/controls",
          "model_name": "DescriptionStyleModel",
          "state": {
            "_view_name": "StyleView",
            "_model_name": "DescriptionStyleModel",
            "description_width": "",
            "_view_module": "@jupyter-widgets/base",
            "_model_module_version": "1.5.0",
            "_view_count": null,
            "_view_module_version": "1.2.0",
            "_model_module": "@jupyter-widgets/controls"
          }
        },
        "8577b3453dc549b6ba0dd9ff0708fc63": {
          "model_module": "@jupyter-widgets/base",
          "model_name": "LayoutModel",
          "state": {
            "_view_name": "LayoutView",
            "grid_template_rows": null,
            "right": null,
            "justify_content": null,
            "_view_module": "@jupyter-widgets/base",
            "overflow": null,
            "_model_module_version": "1.2.0",
            "_view_count": null,
            "flex_flow": null,
            "width": null,
            "min_width": null,
            "border": null,
            "align_items": null,
            "bottom": null,
            "_model_module": "@jupyter-widgets/base",
            "top": null,
            "grid_column": null,
            "overflow_y": null,
            "overflow_x": null,
            "grid_auto_flow": null,
            "grid_area": null,
            "grid_template_columns": null,
            "flex": null,
            "_model_name": "LayoutModel",
            "justify_items": null,
            "grid_row": null,
            "max_height": null,
            "align_content": null,
            "visibility": null,
            "align_self": null,
            "height": null,
            "min_height": null,
            "padding": null,
            "grid_auto_rows": null,
            "grid_gap": null,
            "max_width": null,
            "order": null,
            "_view_module_version": "1.2.0",
            "grid_template_areas": null,
            "object_position": null,
            "object_fit": null,
            "grid_auto_columns": null,
            "margin": null,
            "display": null,
            "left": null
          }
        },
        "3b0bdc4b1e95465880383fd2219909ab": {
          "model_module": "@jupyter-widgets/controls",
          "model_name": "HBoxModel",
          "state": {
            "_view_name": "HBoxView",
            "_dom_classes": [],
            "_model_name": "HBoxModel",
            "_view_module": "@jupyter-widgets/controls",
            "_model_module_version": "1.5.0",
            "_view_count": null,
            "_view_module_version": "1.5.0",
            "box_style": "",
            "layout": "IPY_MODEL_37ff1b798bda46ee8aeac0fc2a6a3a27",
            "_model_module": "@jupyter-widgets/controls",
            "children": [
              "IPY_MODEL_871b1952a20344ca8b2a41b7a5db402c",
              "IPY_MODEL_31a574d7cfec4ee9889c4d2c228176ce"
            ]
          }
        },
        "37ff1b798bda46ee8aeac0fc2a6a3a27": {
          "model_module": "@jupyter-widgets/base",
          "model_name": "LayoutModel",
          "state": {
            "_view_name": "LayoutView",
            "grid_template_rows": null,
            "right": null,
            "justify_content": null,
            "_view_module": "@jupyter-widgets/base",
            "overflow": null,
            "_model_module_version": "1.2.0",
            "_view_count": null,
            "flex_flow": null,
            "width": null,
            "min_width": null,
            "border": null,
            "align_items": null,
            "bottom": null,
            "_model_module": "@jupyter-widgets/base",
            "top": null,
            "grid_column": null,
            "overflow_y": null,
            "overflow_x": null,
            "grid_auto_flow": null,
            "grid_area": null,
            "grid_template_columns": null,
            "flex": null,
            "_model_name": "LayoutModel",
            "justify_items": null,
            "grid_row": null,
            "max_height": null,
            "align_content": null,
            "visibility": null,
            "align_self": null,
            "height": null,
            "min_height": null,
            "padding": null,
            "grid_auto_rows": null,
            "grid_gap": null,
            "max_width": null,
            "order": null,
            "_view_module_version": "1.2.0",
            "grid_template_areas": null,
            "object_position": null,
            "object_fit": null,
            "grid_auto_columns": null,
            "margin": null,
            "display": null,
            "left": null
          }
        },
        "871b1952a20344ca8b2a41b7a5db402c": {
          "model_module": "@jupyter-widgets/controls",
          "model_name": "FloatProgressModel",
          "state": {
            "_view_name": "ProgressView",
            "style": "IPY_MODEL_5e42d7cff33f4d8fac8057ff8dff4a93",
            "_dom_classes": [],
            "description": "",
            "_model_name": "FloatProgressModel",
            "bar_style": "success",
            "max": 5148,
            "_view_module": "@jupyter-widgets/controls",
            "_model_module_version": "1.5.0",
            "value": 5148,
            "_view_count": null,
            "_view_module_version": "1.5.0",
            "orientation": "horizontal",
            "min": 0,
            "description_tooltip": null,
            "_model_module": "@jupyter-widgets/controls",
            "layout": "IPY_MODEL_30143c728ab2489cba0d17359087c0ce"
          }
        },
        "31a574d7cfec4ee9889c4d2c228176ce": {
          "model_module": "@jupyter-widgets/controls",
          "model_name": "HTMLModel",
          "state": {
            "_view_name": "HTMLView",
            "style": "IPY_MODEL_dfac12d882d645158cd643a99d4e7106",
            "_dom_classes": [],
            "description": "",
            "_model_name": "HTMLModel",
            "placeholder": "​",
            "_view_module": "@jupyter-widgets/controls",
            "_model_module_version": "1.5.0",
            "value": " 6144/? [00:00&lt;00:00, 26474.67it/s]",
            "_view_count": null,
            "_view_module_version": "1.5.0",
            "description_tooltip": null,
            "_model_module": "@jupyter-widgets/controls",
            "layout": "IPY_MODEL_8e2779b1562647fbbf461374fb6458cd"
          }
        },
        "5e42d7cff33f4d8fac8057ff8dff4a93": {
          "model_module": "@jupyter-widgets/controls",
          "model_name": "ProgressStyleModel",
          "state": {
            "_view_name": "StyleView",
            "_model_name": "ProgressStyleModel",
            "description_width": "initial",
            "_view_module": "@jupyter-widgets/base",
            "_model_module_version": "1.5.0",
            "_view_count": null,
            "_view_module_version": "1.2.0",
            "bar_color": null,
            "_model_module": "@jupyter-widgets/controls"
          }
        },
        "30143c728ab2489cba0d17359087c0ce": {
          "model_module": "@jupyter-widgets/base",
          "model_name": "LayoutModel",
          "state": {
            "_view_name": "LayoutView",
            "grid_template_rows": null,
            "right": null,
            "justify_content": null,
            "_view_module": "@jupyter-widgets/base",
            "overflow": null,
            "_model_module_version": "1.2.0",
            "_view_count": null,
            "flex_flow": null,
            "width": null,
            "min_width": null,
            "border": null,
            "align_items": null,
            "bottom": null,
            "_model_module": "@jupyter-widgets/base",
            "top": null,
            "grid_column": null,
            "overflow_y": null,
            "overflow_x": null,
            "grid_auto_flow": null,
            "grid_area": null,
            "grid_template_columns": null,
            "flex": null,
            "_model_name": "LayoutModel",
            "justify_items": null,
            "grid_row": null,
            "max_height": null,
            "align_content": null,
            "visibility": null,
            "align_self": null,
            "height": null,
            "min_height": null,
            "padding": null,
            "grid_auto_rows": null,
            "grid_gap": null,
            "max_width": null,
            "order": null,
            "_view_module_version": "1.2.0",
            "grid_template_areas": null,
            "object_position": null,
            "object_fit": null,
            "grid_auto_columns": null,
            "margin": null,
            "display": null,
            "left": null
          }
        },
        "dfac12d882d645158cd643a99d4e7106": {
          "model_module": "@jupyter-widgets/controls",
          "model_name": "DescriptionStyleModel",
          "state": {
            "_view_name": "StyleView",
            "_model_name": "DescriptionStyleModel",
            "description_width": "",
            "_view_module": "@jupyter-widgets/base",
            "_model_module_version": "1.5.0",
            "_view_count": null,
            "_view_module_version": "1.2.0",
            "_model_module": "@jupyter-widgets/controls"
          }
        },
        "8e2779b1562647fbbf461374fb6458cd": {
          "model_module": "@jupyter-widgets/base",
          "model_name": "LayoutModel",
          "state": {
            "_view_name": "LayoutView",
            "grid_template_rows": null,
            "right": null,
            "justify_content": null,
            "_view_module": "@jupyter-widgets/base",
            "overflow": null,
            "_model_module_version": "1.2.0",
            "_view_count": null,
            "flex_flow": null,
            "width": null,
            "min_width": null,
            "border": null,
            "align_items": null,
            "bottom": null,
            "_model_module": "@jupyter-widgets/base",
            "top": null,
            "grid_column": null,
            "overflow_y": null,
            "overflow_x": null,
            "grid_auto_flow": null,
            "grid_area": null,
            "grid_template_columns": null,
            "flex": null,
            "_model_name": "LayoutModel",
            "justify_items": null,
            "grid_row": null,
            "max_height": null,
            "align_content": null,
            "visibility": null,
            "align_self": null,
            "height": null,
            "min_height": null,
            "padding": null,
            "grid_auto_rows": null,
            "grid_gap": null,
            "max_width": null,
            "order": null,
            "_view_module_version": "1.2.0",
            "grid_template_areas": null,
            "object_position": null,
            "object_fit": null,
            "grid_auto_columns": null,
            "margin": null,
            "display": null,
            "left": null
          }
        }
      }
    }
  },
  "cells": [
    {
      "cell_type": "code",
      "metadata": {
        "id": "0tG8BObjKBA2"
      },
      "source": [
        "%matplotlib inline"
      ],
      "execution_count": 1,
      "outputs": []
    },
    {
      "cell_type": "code",
      "metadata": {
        "id": "wdPBPGjaRrCa"
      },
      "source": [
        "import torch\n",
        "from torch import nn\n",
        "from torch.utils.data import DataLoader\n",
        "from torchvision import datasets\n",
        "from torchvision.transforms import ToTensor, Lambda, Compose\n",
        "import matplotlib.pyplot as plt"
      ],
      "execution_count": 2,
      "outputs": []
    },
    {
      "cell_type": "code",
      "metadata": {
        "colab": {
          "base_uri": "https://localhost:8080/",
          "height": 552,
          "referenced_widgets": [
            "9be604fb4ebe45b48b3c036f2721ecbc",
            "722ee29b62f7487284e28978fe583443",
            "9608df84e6af409c88c90df93c0f1915",
            "16bceb80e4704f29ba3595ea256e0bdf",
            "63fa4679e40047d8a492dd657c3f3bce",
            "19aee2ad459d4ff0a90c2ea76fd192bd",
            "97bdb5bb324a48b79872a6c1d10df31b",
            "3b6d689246374c3f80439a819d12d17d",
            "62211f2b1fc7448abb8c856485074a5b",
            "9142b6b00b024557bead1f369a6b3467",
            "e7e97e2cb59e4fc785736b203540bda9",
            "2432923b86464a70be998224de8bf61b",
            "21326d6cd88e44bea62f564f97f7e1cc",
            "f2ce921a63ed49108b74c5aa15159354",
            "63f99f689fd94737b3ce9677a1452bb9",
            "4ffb127e47b0401a8525d3a8297bc831",
            "d7ec9629374642c1ba911bf71413d692",
            "15f5ea9fc55f42a09b41dbac86b32fa8",
            "cdfb6fe9239e48579655a32c7f418f20",
            "c327eba8f7014fe199712f9eefc1059d",
            "513cc3ce629e48df94acecbb1a8e1ca6",
            "cfd1b77587ad4a298f914b37c757b294",
            "f6449e9467eb4e8e9e34c14e2993932a",
            "8577b3453dc549b6ba0dd9ff0708fc63",
            "3b0bdc4b1e95465880383fd2219909ab",
            "37ff1b798bda46ee8aeac0fc2a6a3a27",
            "871b1952a20344ca8b2a41b7a5db402c",
            "31a574d7cfec4ee9889c4d2c228176ce",
            "5e42d7cff33f4d8fac8057ff8dff4a93",
            "30143c728ab2489cba0d17359087c0ce",
            "dfac12d882d645158cd643a99d4e7106",
            "8e2779b1562647fbbf461374fb6458cd"
          ]
        },
        "id": "ZR_AwCZ5SZPf",
        "outputId": "202f2ee5-8776-42b0-db0f-9abf5727980c"
      },
      "source": [
        "# Download training data from open datasets.\n",
        "training_data = datasets.FashionMNIST(\n",
        "    root=\"data/\",\n",
        "    train=True,\n",
        "    download=True,\n",
        "    transform=ToTensor()\n",
        ")\n",
        "\n",
        "# Download test data from open datasets.\n",
        "test_data = datasets.FashionMNIST(\n",
        "    root=\"data/\",\n",
        "    train=False,\n",
        "    download=True,\n",
        "    transform=ToTensor()\n",
        ")"
      ],
      "execution_count": 3,
      "outputs": [
        {
          "output_type": "stream",
          "text": [
            "Downloading http://fashion-mnist.s3-website.eu-central-1.amazonaws.com/train-images-idx3-ubyte.gz\n",
            "Downloading http://fashion-mnist.s3-website.eu-central-1.amazonaws.com/train-images-idx3-ubyte.gz to data/FashionMNIST/raw/train-images-idx3-ubyte.gz\n"
          ],
          "name": "stdout"
        },
        {
          "output_type": "display_data",
          "data": {
            "application/vnd.jupyter.widget-view+json": {
              "model_id": "9be604fb4ebe45b48b3c036f2721ecbc",
              "version_minor": 0,
              "version_major": 2
            },
            "text/plain": [
              "HBox(children=(FloatProgress(value=0.0, max=26421880.0), HTML(value='')))"
            ]
          },
          "metadata": {
            "tags": []
          }
        },
        {
          "output_type": "stream",
          "text": [
            "\n",
            "Extracting data/FashionMNIST/raw/train-images-idx3-ubyte.gz to data/FashionMNIST/raw\n",
            "\n",
            "Downloading http://fashion-mnist.s3-website.eu-central-1.amazonaws.com/train-labels-idx1-ubyte.gz\n",
            "Downloading http://fashion-mnist.s3-website.eu-central-1.amazonaws.com/train-labels-idx1-ubyte.gz to data/FashionMNIST/raw/train-labels-idx1-ubyte.gz\n"
          ],
          "name": "stdout"
        },
        {
          "output_type": "display_data",
          "data": {
            "application/vnd.jupyter.widget-view+json": {
              "model_id": "62211f2b1fc7448abb8c856485074a5b",
              "version_minor": 0,
              "version_major": 2
            },
            "text/plain": [
              "HBox(children=(FloatProgress(value=0.0, max=29515.0), HTML(value='')))"
            ]
          },
          "metadata": {
            "tags": []
          }
        },
        {
          "output_type": "stream",
          "text": [
            "\n",
            "Extracting data/FashionMNIST/raw/train-labels-idx1-ubyte.gz to data/FashionMNIST/raw\n",
            "\n",
            "Downloading http://fashion-mnist.s3-website.eu-central-1.amazonaws.com/t10k-images-idx3-ubyte.gz\n",
            "Downloading http://fashion-mnist.s3-website.eu-central-1.amazonaws.com/t10k-images-idx3-ubyte.gz to data/FashionMNIST/raw/t10k-images-idx3-ubyte.gz\n"
          ],
          "name": "stdout"
        },
        {
          "output_type": "display_data",
          "data": {
            "application/vnd.jupyter.widget-view+json": {
              "model_id": "d7ec9629374642c1ba911bf71413d692",
              "version_minor": 0,
              "version_major": 2
            },
            "text/plain": [
              "HBox(children=(FloatProgress(value=0.0, max=4422102.0), HTML(value='')))"
            ]
          },
          "metadata": {
            "tags": []
          }
        },
        {
          "output_type": "stream",
          "text": [
            "\n",
            "Extracting data/FashionMNIST/raw/t10k-images-idx3-ubyte.gz to data/FashionMNIST/raw\n",
            "\n",
            "Downloading http://fashion-mnist.s3-website.eu-central-1.amazonaws.com/t10k-labels-idx1-ubyte.gz\n",
            "Downloading http://fashion-mnist.s3-website.eu-central-1.amazonaws.com/t10k-labels-idx1-ubyte.gz to data/FashionMNIST/raw/t10k-labels-idx1-ubyte.gz\n"
          ],
          "name": "stdout"
        },
        {
          "output_type": "display_data",
          "data": {
            "application/vnd.jupyter.widget-view+json": {
              "model_id": "3b0bdc4b1e95465880383fd2219909ab",
              "version_minor": 0,
              "version_major": 2
            },
            "text/plain": [
              "HBox(children=(FloatProgress(value=0.0, max=5148.0), HTML(value='')))"
            ]
          },
          "metadata": {
            "tags": []
          }
        },
        {
          "output_type": "stream",
          "text": [
            "\n",
            "Extracting data/FashionMNIST/raw/t10k-labels-idx1-ubyte.gz to data/FashionMNIST/raw\n",
            "\n"
          ],
          "name": "stdout"
        },
        {
          "output_type": "stream",
          "text": [
            "/usr/local/lib/python3.7/dist-packages/torchvision/datasets/mnist.py:498: UserWarning: The given NumPy array is not writeable, and PyTorch does not support non-writeable tensors. This means you can write to the underlying (supposedly non-writeable) NumPy array using the tensor. You may want to copy the array to protect its data or make it writeable before converting it to a tensor. This type of warning will be suppressed for the rest of this program. (Triggered internally at  /pytorch/torch/csrc/utils/tensor_numpy.cpp:180.)\n",
            "  return torch.from_numpy(parsed.astype(m[2], copy=False)).view(*s)\n"
          ],
          "name": "stderr"
        }
      ]
    },
    {
      "cell_type": "code",
      "metadata": {
        "colab": {
          "base_uri": "https://localhost:8080/"
        },
        "id": "qD_SniKzTGQf",
        "outputId": "bae626e0-6a1c-414d-9f64-835bb5348ff0"
      },
      "source": [
        "batch_size = 64\n",
        "\n",
        "# Create data loaders.\n",
        "train_dataloader = DataLoader(training_data, batch_size=batch_size)\n",
        "test_dataloader = DataLoader(test_data, batch_size=batch_size)\n",
        "\n",
        "for X, y in test_dataloader:\n",
        "    print(f\"Shape of X [N, C, H, W]: {X.shape}\")\n",
        "    print(f\"Shape of y: {y.shape} {y.dtype}\")  # DataLoader will convert tensors, numpy arrays, numbers, dicts or lists into tensors automatically\n",
        "    break"
      ],
      "execution_count": 4,
      "outputs": [
        {
          "output_type": "stream",
          "text": [
            "Shape of X [N, C, H, W]: torch.Size([64, 1, 28, 28])\n",
            "Shape of y: torch.Size([64]) torch.int64\n"
          ],
          "name": "stdout"
        }
      ]
    },
    {
      "cell_type": "code",
      "metadata": {
        "colab": {
          "base_uri": "https://localhost:8080/"
        },
        "id": "AiuaiAX8UChW",
        "outputId": "1a19ede2-9836-4a8d-a1d8-3f0ed531ec88"
      },
      "source": [
        "# Get cpu or gpu device for training.\n",
        "device = \"cuda\" if torch.cuda.is_available() else \"cpu\"\n",
        "print(f\"Using {device} device\")\n",
        "\n",
        "# Define model\n",
        "class NeuralNetwork(nn.Module):\n",
        "    def __init__(self):\n",
        "        super().__init__()\n",
        "        self.flatten = nn.Flatten()\n",
        "        self.linear_relu_stack = nn.Sequential(\n",
        "            nn.Linear(28 * 28, 512),\n",
        "            nn.ReLU(),\n",
        "            nn.Linear(512, 512),\n",
        "            nn.ReLU(),\n",
        "            nn.Linear(512, 10),\n",
        "            nn.ReLU()\n",
        "        )\n",
        "    \n",
        "    def forward(self, x):\n",
        "        x = self.flatten(x)\n",
        "        logits = self.linear_relu_stack(x)\n",
        "        return logits\n",
        "\n",
        "model = NeuralNetwork().to(device)\n",
        "print(model)  # only print the function in the same order they are defined in the init, not in the foward order"
      ],
      "execution_count": 5,
      "outputs": [
        {
          "output_type": "stream",
          "text": [
            "Using cuda device\n",
            "NeuralNetwork(\n",
            "  (flatten): Flatten(start_dim=1, end_dim=-1)\n",
            "  (linear_relu_stack): Sequential(\n",
            "    (0): Linear(in_features=784, out_features=512, bias=True)\n",
            "    (1): ReLU()\n",
            "    (2): Linear(in_features=512, out_features=512, bias=True)\n",
            "    (3): ReLU()\n",
            "    (4): Linear(in_features=512, out_features=10, bias=True)\n",
            "    (5): ReLU()\n",
            "  )\n",
            ")\n"
          ],
          "name": "stdout"
        }
      ]
    },
    {
      "cell_type": "code",
      "metadata": {
        "id": "PSO4xr15ZgEs"
      },
      "source": [
        "loss_fn = nn.CrossEntropyLoss()\n",
        "learning_rate = 1e-3\n",
        "optimizer = torch.optim.SGD(model.parameters(), lr=learning_rate)"
      ],
      "execution_count": 6,
      "outputs": []
    },
    {
      "cell_type": "code",
      "metadata": {
        "id": "mTl_S-I3ZwL8"
      },
      "source": [
        "def train(dataloader, model, loss_fn, optimizer):\n",
        "    size = len(dataloader.dataset)\n",
        "    for batch, (X, y) in enumerate(dataloader):\n",
        "        X, y = X.to(device), y.to(device)\n",
        "\n",
        "        # Compute prediction error\n",
        "        pred = model(X)\n",
        "        loss = loss_fn(pred, y)\n",
        "\n",
        "        # Backpropagation\n",
        "        optimizer.zero_grad()\n",
        "        loss.backward()\n",
        "        optimizer.step()\n",
        "\n",
        "        if batch % 100 == 0:\n",
        "            loss, current = loss.item(), batch * len(X)\n",
        "            print(f\"loss: {loss:>7f} [{current:>5d}/{size:>5d}]\")"
      ],
      "execution_count": 7,
      "outputs": []
    },
    {
      "cell_type": "code",
      "metadata": {
        "id": "Ja78I2-pa9T8"
      },
      "source": [
        "def test(dataloader, model, loss_fn):\n",
        "    size = len(dataloader.dataset)\n",
        "    model.eval()\n",
        "    test_loss, correct = 0, 0\n",
        "    with torch.no_grad():\n",
        "        for X, y in dataloader:\n",
        "            X, y = X.to(device), y.to(device)\n",
        "            pred = model(X)\n",
        "            test_loss += loss_fn(pred, y).item()\n",
        "            correct += (pred.argmax(dim=1) == y).type(torch.float).sum().item()  # argmax(): Returns the \"indices\" of the maximum value\n",
        "    test_loss /= size\n",
        "    correct /= size\n",
        "    print(f\"Test Error: \\nAccuracy: {(100 * correct):>0.1f}%, Avg loss: {test_loss:>8f} \\n\")"
      ],
      "execution_count": 8,
      "outputs": []
    },
    {
      "cell_type": "code",
      "metadata": {
        "colab": {
          "base_uri": "https://localhost:8080/"
        },
        "id": "novSDDhXdYkr",
        "outputId": "9d67447e-5551-4f98-e6bf-d0cc9ce8c60a"
      },
      "source": [
        "epochs = 15\n",
        "for t in range(epochs):\n",
        "    print(f\"Epoch {t + 1}\\n-------------------------------\")\n",
        "    train(train_dataloader, model, loss_fn, optimizer)\n",
        "    test(test_dataloader, model, loss_fn)\n",
        "print(\"Done!\")"
      ],
      "execution_count": 9,
      "outputs": [
        {
          "output_type": "stream",
          "text": [
            "Epoch 1\n",
            "-------------------------------\n",
            "loss: 2.305735 [    0/60000]\n",
            "loss: 2.303176 [ 6400/60000]\n",
            "loss: 2.294169 [12800/60000]\n",
            "loss: 2.294291 [19200/60000]\n",
            "loss: 2.291786 [25600/60000]\n",
            "loss: 2.283275 [32000/60000]\n",
            "loss: 2.270892 [38400/60000]\n",
            "loss: 2.263266 [44800/60000]\n",
            "loss: 2.247832 [51200/60000]\n",
            "loss: 2.253861 [57600/60000]\n",
            "Test Error: \n",
            "Accuracy: 42.9%, Avg loss: 0.035321 \n",
            "\n",
            "Epoch 2\n",
            "-------------------------------\n",
            "loss: 2.238312 [    0/60000]\n",
            "loss: 2.252417 [ 6400/60000]\n",
            "loss: 2.231926 [12800/60000]\n",
            "loss: 2.245328 [19200/60000]\n",
            "loss: 2.233745 [25600/60000]\n",
            "loss: 2.209258 [32000/60000]\n",
            "loss: 2.186613 [38400/60000]\n",
            "loss: 2.166258 [44800/60000]\n",
            "loss: 2.151777 [51200/60000]\n",
            "loss: 2.176080 [57600/60000]\n",
            "Test Error: \n",
            "Accuracy: 44.2%, Avg loss: 0.034051 \n",
            "\n",
            "Epoch 3\n",
            "-------------------------------\n",
            "loss: 2.143912 [    0/60000]\n",
            "loss: 2.182367 [ 6400/60000]\n",
            "loss: 2.143909 [12800/60000]\n",
            "loss: 2.167571 [19200/60000]\n",
            "loss: 2.148484 [25600/60000]\n",
            "loss: 2.113987 [32000/60000]\n",
            "loss: 2.060688 [38400/60000]\n",
            "loss: 2.033069 [44800/60000]\n",
            "loss: 2.013319 [51200/60000]\n",
            "loss: 2.058090 [57600/60000]\n",
            "Test Error: \n",
            "Accuracy: 44.3%, Avg loss: 0.031902 \n",
            "\n",
            "Epoch 4\n",
            "-------------------------------\n",
            "loss: 2.013157 [    0/60000]\n",
            "loss: 2.048066 [ 6400/60000]\n",
            "loss: 1.974990 [12800/60000]\n",
            "loss: 2.001414 [19200/60000]\n",
            "loss: 1.967729 [25600/60000]\n",
            "loss: 1.944294 [32000/60000]\n",
            "loss: 1.845648 [38400/60000]\n",
            "loss: 1.805403 [44800/60000]\n",
            "loss: 1.828872 [51200/60000]\n",
            "loss: 1.865131 [57600/60000]\n",
            "Test Error: \n",
            "Accuracy: 56.7%, Avg loss: 0.028623 \n",
            "\n",
            "Epoch 5\n",
            "-------------------------------\n",
            "loss: 1.822901 [    0/60000]\n",
            "loss: 1.842026 [ 6400/60000]\n",
            "loss: 1.748797 [12800/60000]\n",
            "loss: 1.810444 [19200/60000]\n",
            "loss: 1.730968 [25600/60000]\n",
            "loss: 1.743441 [32000/60000]\n",
            "loss: 1.608826 [38400/60000]\n",
            "loss: 1.576654 [44800/60000]\n",
            "loss: 1.647546 [51200/60000]\n",
            "loss: 1.681158 [57600/60000]\n",
            "Test Error: \n",
            "Accuracy: 60.0%, Avg loss: 0.025582 \n",
            "\n",
            "Epoch 6\n",
            "-------------------------------\n",
            "loss: 1.641784 [    0/60000]\n",
            "loss: 1.648417 [ 6400/60000]\n",
            "loss: 1.549145 [12800/60000]\n",
            "loss: 1.644341 [19200/60000]\n",
            "loss: 1.518661 [25600/60000]\n",
            "loss: 1.569499 [32000/60000]\n",
            "loss: 1.415119 [38400/60000]\n",
            "loss: 1.400497 [44800/60000]\n",
            "loss: 1.491210 [51200/60000]\n",
            "loss: 1.529762 [57600/60000]\n",
            "Test Error: \n",
            "Accuracy: 61.2%, Avg loss: 0.023065 \n",
            "\n",
            "Epoch 7\n",
            "-------------------------------\n",
            "loss: 1.489987 [    0/60000]\n",
            "loss: 1.493867 [ 6400/60000]\n",
            "loss: 1.389038 [12800/60000]\n",
            "loss: 1.507515 [19200/60000]\n",
            "loss: 1.343437 [25600/60000]\n",
            "loss: 1.437718 [32000/60000]\n",
            "loss: 1.275195 [38400/60000]\n",
            "loss: 1.279436 [44800/60000]\n",
            "loss: 1.368049 [51200/60000]\n",
            "loss: 1.420471 [57600/60000]\n",
            "Test Error: \n",
            "Accuracy: 62.0%, Avg loss: 0.021167 \n",
            "\n",
            "Epoch 8\n",
            "-------------------------------\n",
            "loss: 1.373071 [    0/60000]\n",
            "loss: 1.381743 [ 6400/60000]\n",
            "loss: 1.270137 [12800/60000]\n",
            "loss: 1.401033 [19200/60000]\n",
            "loss: 1.217645 [25600/60000]\n",
            "loss: 1.342293 [32000/60000]\n",
            "loss: 1.177331 [38400/60000]\n",
            "loss: 1.197158 [44800/60000]\n",
            "loss: 1.277157 [51200/60000]\n",
            "loss: 1.345502 [57600/60000]\n",
            "Test Error: \n",
            "Accuracy: 62.3%, Avg loss: 0.019812 \n",
            "\n",
            "Epoch 9\n",
            "-------------------------------\n",
            "loss: 1.286266 [    0/60000]\n",
            "loss: 1.302823 [ 6400/60000]\n",
            "loss: 1.184968 [12800/60000]\n",
            "loss: 1.322601 [19200/60000]\n",
            "loss: 1.132276 [25600/60000]\n",
            "loss: 1.273209 [32000/60000]\n",
            "loss: 1.109795 [38400/60000]\n",
            "loss: 1.142826 [44800/60000]\n",
            "loss: 1.213596 [51200/60000]\n",
            "loss: 1.296637 [57600/60000]\n",
            "Test Error: \n",
            "Accuracy: 62.9%, Avg loss: 0.018865 \n",
            "\n",
            "Epoch 10\n",
            "-------------------------------\n",
            "loss: 1.222816 [    0/60000]\n",
            "loss: 1.246429 [ 6400/60000]\n",
            "loss: 1.124225 [12800/60000]\n",
            "loss: 1.263945 [19200/60000]\n",
            "loss: 1.074858 [25600/60000]\n",
            "loss: 1.223024 [32000/60000]\n",
            "loss: 1.061697 [38400/60000]\n",
            "loss: 1.107549 [44800/60000]\n",
            "loss: 1.166511 [51200/60000]\n",
            "loss: 1.262394 [57600/60000]\n",
            "Test Error: \n",
            "Accuracy: 63.7%, Avg loss: 0.018189 \n",
            "\n",
            "Epoch 11\n",
            "-------------------------------\n",
            "loss: 1.174795 [    0/60000]\n",
            "loss: 1.205198 [ 6400/60000]\n",
            "loss: 1.080344 [12800/60000]\n",
            "loss: 1.221230 [19200/60000]\n",
            "loss: 1.035380 [25600/60000]\n",
            "loss: 1.185160 [32000/60000]\n",
            "loss: 1.026336 [38400/60000]\n",
            "loss: 1.082473 [44800/60000]\n",
            "loss: 1.130424 [51200/60000]\n",
            "loss: 1.237305 [57600/60000]\n",
            "Test Error: \n",
            "Accuracy: 64.5%, Avg loss: 0.017684 \n",
            "\n",
            "Epoch 12\n",
            "-------------------------------\n",
            "loss: 1.136737 [    0/60000]\n",
            "loss: 1.174034 [ 6400/60000]\n",
            "loss: 1.046562 [12800/60000]\n",
            "loss: 1.188328 [19200/60000]\n",
            "loss: 1.005633 [25600/60000]\n",
            "loss: 1.155855 [32000/60000]\n",
            "loss: 0.998756 [38400/60000]\n",
            "loss: 1.064102 [44800/60000]\n",
            "loss: 1.100966 [51200/60000]\n",
            "loss: 1.217673 [57600/60000]\n",
            "Test Error: \n",
            "Accuracy: 65.4%, Avg loss: 0.017285 \n",
            "\n",
            "Epoch 13\n",
            "-------------------------------\n",
            "loss: 1.104736 [    0/60000]\n",
            "loss: 1.148668 [ 6400/60000]\n",
            "loss: 1.019530 [12800/60000]\n",
            "loss: 1.162600 [19200/60000]\n",
            "loss: 0.982070 [25600/60000]\n",
            "loss: 1.131315 [32000/60000]\n",
            "loss: 0.976069 [38400/60000]\n",
            "loss: 1.049264 [44800/60000]\n",
            "loss: 1.076215 [51200/60000]\n",
            "loss: 1.201750 [57600/60000]\n",
            "Test Error: \n",
            "Accuracy: 66.3%, Avg loss: 0.016953 \n",
            "\n",
            "Epoch 14\n",
            "-------------------------------\n",
            "loss: 1.076719 [    0/60000]\n",
            "loss: 1.126778 [ 6400/60000]\n",
            "loss: 0.996853 [12800/60000]\n",
            "loss: 1.141946 [19200/60000]\n",
            "loss: 0.962728 [25600/60000]\n",
            "loss: 1.111009 [32000/60000]\n",
            "loss: 0.956491 [38400/60000]\n",
            "loss: 1.036462 [44800/60000]\n",
            "loss: 1.054013 [51200/60000]\n",
            "loss: 1.187945 [57600/60000]\n",
            "Test Error: \n",
            "Accuracy: 67.2%, Avg loss: 0.016664 \n",
            "\n",
            "Epoch 15\n",
            "-------------------------------\n",
            "loss: 1.051826 [    0/60000]\n",
            "loss: 1.105972 [ 6400/60000]\n",
            "loss: 0.977125 [12800/60000]\n",
            "loss: 1.124688 [19200/60000]\n",
            "loss: 0.946464 [25600/60000]\n",
            "loss: 1.093308 [32000/60000]\n",
            "loss: 0.939387 [38400/60000]\n",
            "loss: 1.025204 [44800/60000]\n",
            "loss: 1.033879 [51200/60000]\n",
            "loss: 1.175205 [57600/60000]\n",
            "Test Error: \n",
            "Accuracy: 68.2%, Avg loss: 0.016405 \n",
            "\n",
            "Done!\n"
          ],
          "name": "stdout"
        }
      ]
    },
    {
      "cell_type": "code",
      "metadata": {
        "colab": {
          "base_uri": "https://localhost:8080/"
        },
        "id": "oMHiUnVVfbbO",
        "outputId": "a60b5daf-7b01-4b4d-a7ea-68316a8cd85c"
      },
      "source": [
        "torch.save(model.state_dict(), \"data/model.pth\")\n",
        "print(\"Saved PyTorch Model State ot model.pth\")"
      ],
      "execution_count": 10,
      "outputs": [
        {
          "output_type": "stream",
          "text": [
            "Saved PyTorch Model State ot model.pth\n"
          ],
          "name": "stdout"
        }
      ]
    },
    {
      "cell_type": "code",
      "metadata": {
        "colab": {
          "base_uri": "https://localhost:8080/"
        },
        "id": "58NKAOFdg4kz",
        "outputId": "b7540232-bdec-42bb-9a97-e3b550054f10"
      },
      "source": [
        "model = NeuralNetwork()\n",
        "model.load_state_dict(torch.load(\"data/model.pth\"))"
      ],
      "execution_count": 11,
      "outputs": [
        {
          "output_type": "execute_result",
          "data": {
            "text/plain": [
              "<All keys matched successfully>"
            ]
          },
          "metadata": {
            "tags": []
          },
          "execution_count": 11
        }
      ]
    },
    {
      "cell_type": "code",
      "metadata": {
        "colab": {
          "base_uri": "https://localhost:8080/"
        },
        "id": "Y5IF02IxhEvm",
        "outputId": "4bc91f2b-c7c9-4c8c-cf13-d3f233660f01"
      },
      "source": [
        "classes = [\n",
        "    \"T-shirt/top\",\n",
        "    \"Trouser\",\n",
        "    \"Pullover\",\n",
        "    \"Dress\",\n",
        "    \"Coat\",\n",
        "    \"Sandal\",\n",
        "    \"Shirt\",\n",
        "    \"Sneaker\",\n",
        "    \"Bag\",\n",
        "    \"Ankle boot\",\n",
        "]\n",
        "\n",
        "model.eval()\n",
        "X, y = test_data[0][0], test_data[0][1]\n",
        "with torch.no_grad():\n",
        "    pred = model(X)\n",
        "    predicted, actual = classes[pred[0].argmax(0)], classes[y]\n",
        "    print(f'Predicted: \"{predicted}\", Actual: \"{actual}\"')"
      ],
      "execution_count": 12,
      "outputs": [
        {
          "output_type": "stream",
          "text": [
            "Predicted: \"Ankle boot\", Actual: \"Ankle boot\"\n"
          ],
          "name": "stdout"
        }
      ]
    }
  ]
}