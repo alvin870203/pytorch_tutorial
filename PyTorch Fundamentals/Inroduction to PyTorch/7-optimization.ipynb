{
  "cells": [
    {
      "cell_type": "code",
      "source": [
        "%matplotlib inline"
      ],
      "outputs": [
        {
          "output_type": "stream",
          "name": "stderr",
          "text": [
            "Matplotlib is building the font cache; this may take a moment.\n"
          ]
        }
      ],
      "execution_count": 1,
      "metadata": {}
    },
    {
      "cell_type": "markdown",
      "source": [
        "# Optimizing the model parameters\n",
        "\n",
        "Now that we have a model and data it's time to train, validate and test our model by optimizing its parameters on our data. Training a model is an iterative process; in each iteration (called an *epoch*) the model makes a guess about the output, calculates the error in its guess (*loss*), collects the derivatives of the error with respect to its parameters (as we saw in the module), and **optimizes** these parameters using gradient descent. For a more detailed walkthrough of this process, check out this video on [backpropagation from 3Blue1Brown](https://www.youtube.com/watch?v=tIeHLnjs5U8).\n",
        "\n",
        "## Prerequisite code \n",
        "\n",
        "We load the code from the previous modules on **Datasets & DataLoaders** and **Build Model**\n",
        "\n"
      ],
      "metadata": {}
    },
    {
      "cell_type": "code",
      "source": [
        "import torch\n",
        "from torch import nn\n",
        "from torch.utils.data import DataLoader\n",
        "from torchvision import datasets\n",
        "from torchvision.transforms import ToTensor, Lambda\n",
        "\n",
        "training_data = datasets.FashionMNIST(\n",
        "    root=\"data\",\n",
        "    train=True,\n",
        "    download=True,\n",
        "    transform=ToTensor()\n",
        ")\n",
        "\n",
        "test_data = datasets.FashionMNIST(\n",
        "    root=\"data\",\n",
        "    train=False,\n",
        "    download=True,\n",
        "    transform=ToTensor()\n",
        ")\n",
        "\n",
        "train_dataloader = DataLoader(training_data, batch_size=64)\n",
        "test_dataloader = DataLoader(test_data, batch_size=64)\n",
        "\n",
        "class NeuralNetwork(nn.Module):\n",
        "    def __init__(self):\n",
        "        super().__init__()  # same as super(NeuralNetwork, self).__init__()\n",
        "        self.flatten = nn.Flatten()\n",
        "        self.linear_relu_stack = nn.Sequential(\n",
        "            nn.Linear(28*28, 512),\n",
        "            nn.ReLU(),\n",
        "            nn.Linear(512, 512),\n",
        "            nn.ReLU(),\n",
        "            nn.Linear(512, 10),\n",
        "            nn.ReLU()\n",
        "        )\n",
        "\n",
        "    def forward(self, x):\n",
        "        x = self.flatten(x)\n",
        "        logits = self.linear_relu_stack(x)\n",
        "        return logits\n",
        "\n",
        "model = NeuralNetwork()"
      ],
      "outputs": [
        {
          "output_type": "stream",
          "name": "stdout",
          "text": [
            "Using downloaded and verified file: data/FashionMNIST/raw/train-images-idx3-ubyte.gz\n",
            "Extracting data/FashionMNIST/raw/train-images-idx3-ubyte.gz to data/FashionMNIST/raw\n",
            "Using downloaded and verified file: data/FashionMNIST/raw/train-labels-idx1-ubyte.gz\n",
            "Extracting data/FashionMNIST/raw/train-labels-idx1-ubyte.gz to data/FashionMNIST/raw\n",
            "Using downloaded and verified file: data/FashionMNIST/raw/t10k-images-idx3-ubyte.gz\n",
            "Extracting data/FashionMNIST/raw/t10k-images-idx3-ubyte.gz to data/FashionMNIST/raw\n",
            "Using downloaded and verified file: data/FashionMNIST/raw/t10k-labels-idx1-ubyte.gz\n",
            "Extracting data/FashionMNIST/raw/t10k-labels-idx1-ubyte.gz to data/FashionMNIST/raw\n",
            "Processing...\n",
            "Done!\n"
          ]
        },
        {
          "output_type": "stream",
          "name": "stderr",
          "text": [
            "/anaconda/envs/py37_pytorch/lib/python3.7/site-packages/torchvision/datasets/mnist.py:480: UserWarning: The given NumPy array is not writeable, and PyTorch does not support non-writeable tensors. This means you can write to the underlying (supposedly non-writeable) NumPy array using the tensor. You may want to copy the array to protect its data or make it writeable before converting it to a tensor. This type of warning will be suppressed for the rest of this program. (Triggered internally at  /opt/conda/conda-bld/pytorch_1607370141920/work/torch/csrc/utils/tensor_numpy.cpp:141.)\n",
            "  return torch.from_numpy(parsed.astype(m[2], copy=False)).view(*s)\n"
          ]
        }
      ],
      "execution_count": 2,
      "metadata": {}
    },
    {
      "cell_type": "markdown",
      "source": [
        "## Setting hyperparameters \n",
        "\n",
        "Hyperparameters are adjustable parameters that let you control the model optimization process. \n",
        "Different hyperparameter values can impact model training and convergence rates \n",
        "([read more](https://pytorch.org/tutorials/beginner/hyperparameter_tuning_tutorial.html) about hyperparameter tuning)\n",
        "\n",
        "We define the following hyperparameters for training:\n",
        " - **Number of Epochs** - the number times to iterate over the dataset\n",
        " - **Batch Size** - the number of data samples seen by the model in each epoch\n",
        " - **Learning Rate** - how much to update models parameters at each batch/epoch. Smaller values yield slow learning speed, while large values may result in unpredictable behavior during training."
      ],
      "metadata": {}
    },
    {
      "cell_type": "code",
      "source": [
        "learning_rate = 1e-3\n",
        "batch_size = 64\n",
        "epochs = 5"
      ],
      "outputs": [],
      "execution_count": 3,
      "metadata": {}
    },
    {
      "cell_type": "markdown",
      "source": [
        "## Add an optimization loop\n",
        "\n",
        "Once we set our hyperparameters, we can then train and optimize our model with an optimization loop. Each \n",
        "iteration of the optimization loop is called an **epoch**. \n",
        "\n",
        "Each epoch consists of two main parts:\n",
        " - **The Train Loop** - iterate over the training dataset and try to converge to optimal parameters.\n",
        " - **The Validation/Test Loop** - iterate over the test dataset to check if model performance is improving.\n",
        "\n",
        "Let's briefly familiarize ourselves with some of the concepts used in the training loop. Jump ahead to \n",
        "see the `full-impl-label` of the optimization loop.\n",
        "\n",
        "### Add a loss function\n",
        "\n",
        "When presented with some training data, our untrained network is likely not to give the correct \n",
        "answer. **Loss function** measures the degree of dissimilarity of obtained result to the target value, \n",
        "and it is the loss function that we want to minimize during training. To calculate the loss we make a \n",
        "prediction using the inputs of our given data sample and compare it against the true data label value.\n",
        "\n",
        "Common loss functions include [nn.MSELoss](https://pytorch.org/docs/stable/generated/torch.nn.MSELoss.html#torch.nn.MSELoss) (Mean Square Error) for regression tasks, and \n",
        "[nn.NLLLoss](https://pytorch.org/docs/stable/generated/torch.nn.NLLLoss.html#torch.nn.NLLLoss) (Negative Log Likelihood) for classification. \n",
        "[nn.CrossEntropyLoss](https://pytorch.org/docs/stable/generated/torch.nn.CrossEntropyLoss.html#torch.nn.CrossEntropyLoss) combines `nn.LogSoftmax` and `nn.NLLLoss`.\n",
        "\n",
        "We pass our model's output logits to `nn.CrossEntropyLoss`, which will normalize the logits and compute the prediction error."
      ],
      "metadata": {}
    },
    {
      "cell_type": "code",
      "source": [
        "# Initialize the loss function\n",
        "loss_fn = nn.CrossEntropyLoss()"
      ],
      "outputs": [],
      "execution_count": 4,
      "metadata": {}
    },
    {
      "cell_type": "markdown",
      "source": [
        "### Optimization pass\n",
        "\n",
        "Optimization is the process of adjusting model parameters to reduce model error in each training step. **Optimization algorithms** define how this process is performed (in this example we use Stochastic Gradient Descent).\n",
        "All optimization logic is encapsulated in  the ``optimizer`` object. Here, we use the SGD optimizer; additionally, there are many [different optimizers](https://pytorch.org/docs/stable/optim.html) \n",
        "available in PyTorch such as ADAM and RMSProp, that work better for different kinds of models and data.\n",
        "\n",
        "We initialize the optimizer by registering the model's parameters that need to be trained, and passing in the learning rate hyperparameter.\n",
        "\n"
      ],
      "metadata": {}
    },
    {
      "cell_type": "code",
      "source": [
        "optimizer = torch.optim.SGD(model.parameters(), lr=learning_rate)"
      ],
      "outputs": [],
      "execution_count": 5,
      "metadata": {}
    },
    {
      "cell_type": "markdown",
      "source": [
        "Inside the training loop, optimization happens in three steps:\n",
        " * Call `optimizer.zero_grad()` to reset the gradients of model parameters. Gradients by default add up; to prevent double-counting, we explicitly zero them at each iteration.\n",
        " * Back-propagate the prediction loss with a call to `loss.backwards()`. PyTorch deposits the gradients of the loss w.r.t. each parameter. \n",
        " * Once we have our gradients, we call ``optimizer.step()`` to adjust the parameters by the gradients collected in the backward pass."
      ],
      "metadata": {}
    },
    {
      "cell_type": "markdown",
      "source": [
        "## Full implementation\n",
        "\n",
        "We define `train_loop` that loops over our optimization code, and `test_loop` that \n",
        "evaluates the model's performance against our test data."
      ],
      "metadata": {}
    },
    {
      "cell_type": "code",
      "source": [
        "def train_loop(dataloader, model, loss_fn, optimizer):\n",
        "    size = len(dataloader.dataset)\n",
        "    for batch, (X, y) in enumerate(dataloader):\n",
        "        # Compute prediction and loss\n",
        "        pred = model(X)\n",
        "        loss = loss_fn(pred, y)  # torch tensor with grad\n",
        "\n",
        "        # Backpropagation\n",
        "        optimizer.zero_grad()\n",
        "        loss.backward()\n",
        "        optimizer.step()\n",
        "\n",
        "        if batch % 100 == 0:\n",
        "            loss, current = loss.item(), batch * len(X)\n",
        "            print(f\"loss: {loss:>7f}  [{current:>5d}/{size:>5d}]\")\n",
        "\n",
        "def test_loop(dataloader, model, loss_fn):\n",
        "    size = len(dataloader.dataset)\n",
        "    test_loss, correct = 0, 0  # python number accumulated over whole dataset, so need to be initilize to zero\n",
        "\n",
        "    with torch.no_grad():\n",
        "        for X, y in dataloader:\n",
        "            pred = model(X)\n",
        "            test_loss += loss_fn(pred, y).item()  # python number\n",
        "            correct += (pred.argmax(1) == y).type(torch.float).sum().item()\n",
        "    \n",
        "    test_loss /= size\n",
        "    correct /= size\n",
        "    print(f\"Test Error: \\n Accuracy: {(100 * correct):>0.1f}%, Avg loss: {test_loss:>8f} \\n\")  # right align a string in Python f-strings using {variable:>N} where N is the total length"
      ],
      "outputs": [],
      "execution_count": 6,
      "metadata": {}
    },
    {
      "cell_type": "markdown",
      "source": [
        "We initialize the loss function and optimizer, and pass it to `train_loop` and `test_loop`.\n",
        "Feel free to increase the number of epochs to track the model's improving performance."
      ],
      "metadata": {}
    },
    {
      "cell_type": "code",
      "source": [
        "loss_fn = nn.CrossEntropyLoss()\n",
        "optimizer = torch.optim.SGD(model.parameters(), lr=learning_rate)\n",
        "\n",
        "epochs = 10\n",
        "for t in range(epochs):\n",
        "    print(f\"Epoch {t+1}\\n-------------------------------\")\n",
        "    train_loop(train_dataloader, model, loss_fn, optimizer)\n",
        "    test_loop(test_dataloader, model, loss_fn)\n",
        "print(\"Done!\")"
      ],
      "outputs": [
        {
          "output_type": "stream",
          "name": "stdout",
          "text": [
            "Epoch 1\n",
            "-------------------------------\n",
            "loss: 2.305115  [    0/60000]\n",
            "loss: 2.301358  [ 6400/60000]\n",
            "loss: 2.291451  [12800/60000]\n",
            "loss: 2.280833  [19200/60000]\n",
            "loss: 2.278162  [25600/60000]\n",
            "loss: 2.273001  [32000/60000]\n",
            "loss: 2.261495  [38400/60000]\n",
            "loss: 2.266617  [44800/60000]\n",
            "loss: 2.252420  [51200/60000]\n",
            "loss: 2.211960  [57600/60000]\n",
            "Test Error: \n",
            " Accuracy: 37.0%, Avg loss: 0.035084 \n",
            "\n",
            "Epoch 2\n",
            "-------------------------------\n",
            "loss: 2.257325  [    0/60000]\n",
            "loss: 2.251688  [ 6400/60000]\n",
            "loss: 2.240384  [12800/60000]\n",
            "loss: 2.210186  [19200/60000]\n",
            "loss: 2.193449  [25600/60000]\n",
            "loss: 2.215242  [32000/60000]\n",
            "loss: 2.180220  [38400/60000]\n",
            "loss: 2.204553  [44800/60000]\n",
            "loss: 2.178881  [51200/60000]\n",
            "loss: 2.093635  [57600/60000]\n",
            "Test Error: \n",
            " Accuracy: 44.4%, Avg loss: 0.033551 \n",
            "\n",
            "Epoch 3\n",
            "-------------------------------\n",
            "loss: 2.201244  [    0/60000]\n",
            "loss: 2.174217  [ 6400/60000]\n",
            "loss: 2.162349  [12800/60000]\n",
            "loss: 2.095407  [19200/60000]\n",
            "loss: 2.070091  [25600/60000]\n",
            "loss: 2.141079  [32000/60000]\n",
            "loss: 2.053953  [38400/60000]\n",
            "loss: 2.116217  [44800/60000]\n",
            "loss: 2.076374  [51200/60000]\n",
            "loss: 1.922064  [57600/60000]\n",
            "Test Error: \n",
            " Accuracy: 45.4%, Avg loss: 0.031445 \n",
            "\n",
            "Epoch 4\n",
            "-------------------------------\n",
            "loss: 2.129339  [    0/60000]\n",
            "loss: 2.072168  [ 6400/60000]\n",
            "loss: 2.064757  [12800/60000]\n",
            "loss: 1.945809  [19200/60000]\n",
            "loss: 1.928198  [25600/60000]\n",
            "loss: 2.057503  [32000/60000]\n",
            "loss: 1.908395  [38400/60000]\n",
            "loss: 2.023267  [44800/60000]\n",
            "loss: 1.972604  [51200/60000]\n",
            "loss: 1.743834  [57600/60000]\n",
            "Test Error: \n",
            " Accuracy: 46.1%, Avg loss: 0.029380 \n",
            "\n",
            "Epoch 5\n",
            "-------------------------------\n",
            "loss: 2.058057  [    0/60000]\n",
            "loss: 1.970817  [ 6400/60000]\n",
            "loss: 1.970200  [12800/60000]\n",
            "loss: 1.815283  [19200/60000]\n",
            "loss: 1.812557  [25600/60000]\n",
            "loss: 1.978685  [32000/60000]\n",
            "loss: 1.786291  [38400/60000]\n",
            "loss: 1.942743  [44800/60000]\n",
            "loss: 1.874735  [51200/60000]\n",
            "loss: 1.605928  [57600/60000]\n",
            "Test Error: \n",
            " Accuracy: 46.9%, Avg loss: 0.027619 \n",
            "\n",
            "Epoch 6\n",
            "-------------------------------\n",
            "loss: 1.972447  [    0/60000]\n",
            "loss: 1.873715  [ 6400/60000]\n",
            "loss: 1.869288  [12800/60000]\n",
            "loss: 1.705568  [19200/60000]\n",
            "loss: 1.680881  [25600/60000]\n",
            "loss: 1.896437  [32000/60000]\n",
            "loss: 1.682588  [38400/60000]\n",
            "loss: 1.868401  [44800/60000]\n",
            "loss: 1.773666  [51200/60000]\n",
            "loss: 1.503161  [57600/60000]\n",
            "Test Error: \n",
            " Accuracy: 47.6%, Avg loss: 0.026101 \n",
            "\n",
            "Epoch 7\n",
            "-------------------------------\n",
            "loss: 1.880622  [    0/60000]\n",
            "loss: 1.785113  [ 6400/60000]\n",
            "loss: 1.773400  [12800/60000]\n",
            "loss: 1.615856  [19200/60000]\n",
            "loss: 1.573368  [25600/60000]\n",
            "loss: 1.824946  [32000/60000]\n",
            "loss: 1.602613  [38400/60000]\n",
            "loss: 1.806757  [44800/60000]\n",
            "loss: 1.692160  [51200/60000]\n",
            "loss: 1.429664  [57600/60000]\n",
            "Test Error: \n",
            " Accuracy: 49.6%, Avg loss: 0.024913 \n",
            "\n",
            "Epoch 8\n",
            "-------------------------------\n",
            "loss: 1.803042  [    0/60000]\n",
            "loss: 1.713888  [ 6400/60000]\n",
            "loss: 1.692153  [12800/60000]\n",
            "loss: 1.544278  [19200/60000]\n",
            "loss: 1.490716  [25600/60000]\n",
            "loss: 1.766915  [32000/60000]\n",
            "loss: 1.542202  [38400/60000]\n",
            "loss: 1.760532  [44800/60000]\n",
            "loss: 1.629671  [51200/60000]\n",
            "loss: 1.376899  [57600/60000]\n",
            "Test Error: \n",
            " Accuracy: 51.3%, Avg loss: 0.024008 \n",
            "\n",
            "Epoch 9\n",
            "-------------------------------\n",
            "loss: 1.742237  [    0/60000]\n",
            "loss: 1.658416  [ 6400/60000]\n",
            "loss: 1.626074  [12800/60000]\n",
            "loss: 1.488649  [19200/60000]\n",
            "loss: 1.429071  [25600/60000]\n",
            "loss: 1.721751  [32000/60000]\n",
            "loss: 1.496727  [38400/60000]\n",
            "loss: 1.726344  [44800/60000]\n",
            "loss: 1.583184  [51200/60000]\n",
            "loss: 1.337996  [57600/60000]\n",
            "Test Error: \n",
            " Accuracy: 51.9%, Avg loss: 0.023321 \n",
            "\n",
            "Epoch 10\n",
            "-------------------------------\n",
            "loss: 1.693825  [    0/60000]\n",
            "loss: 1.615209  [ 6400/60000]\n",
            "loss: 1.574095  [12800/60000]\n",
            "loss: 1.446382  [19200/60000]\n",
            "loss: 1.382917  [25600/60000]\n",
            "loss: 1.686744  [32000/60000]\n",
            "loss: 1.461051  [38400/60000]\n",
            "loss: 1.700015  [44800/60000]\n",
            "loss: 1.546947  [51200/60000]\n",
            "loss: 1.306915  [57600/60000]\n",
            "Test Error: \n",
            " Accuracy: 52.5%, Avg loss: 0.022781 \n",
            "\n",
            "Done!\n"
          ]
        }
      ],
      "execution_count": 7,
      "metadata": {}
    },
    {
      "cell_type": "markdown",
      "source": [
        "You may have noticed that the model is initially not very good (that's OK!). Try running the loop for more `epochs` or adjusting the `learning_rate` to a bigger number. It might also be the case that the model configuration we chose might not be the optimal one for this kind of problem (it isn't). Later courses will delve more into the model shapes that work for vision problems.\n"
      ],
      "metadata": {}
    }
  ],
  "metadata": {
    "kernelspec": {
      "name": "conda-env-py37_pytorch-py",
      "language": "python",
      "display_name": "py37_pytorch"
    },
    "language_info": {
      "name": "python",
      "version": "3.7.9",
      "mimetype": "text/x-python",
      "codemirror_mode": {
        "name": "ipython",
        "version": 3
      },
      "pygments_lexer": "ipython3",
      "nbconvert_exporter": "python",
      "file_extension": ".py"
    },
    "kernel_info": {
      "name": "conda-env-py37_pytorch-py"
    },
    "nteract": {
      "version": "nteract-front-end@1.0.0"
    }
  },
  "nbformat": 4,
  "nbformat_minor": 1
}